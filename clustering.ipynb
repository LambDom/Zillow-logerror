{
 "cells": [
  {
   "cell_type": "code",
   "execution_count": 3,
   "metadata": {},
   "outputs": [],
   "source": [
    "import numpy as np\n",
    "import pandas as pd\n",
    "from sklearn.cluster import KMeans\n",
    "from sklearn.model_selection import train_test_split\n",
    "\n",
    "import acquire\n",
    "import summarize\n",
    "import prepare\n",
    "\n",
    "import seaborn as sns\n",
    "import matplotlib.pyplot as plt\n",
    "%matplotlib inline\n",
    "\n",
    "# ignore warnings\n",
    "import warnings\n",
    "warnings.filterwarnings(\"ignore\")"
   ]
  },
  {
   "cell_type": "markdown",
   "metadata": {},
   "source": [
    "# ACQUIRE"
   ]
  },
  {
   "cell_type": "code",
   "execution_count": 4,
   "metadata": {},
   "outputs": [],
   "source": [
    "df = pd.read_csv('data.csv')"
   ]
  },
  {
   "cell_type": "code",
   "execution_count": 39,
   "metadata": {},
   "outputs": [
    {
     "data": {
      "text/plain": [
       "0.01659829124491966"
      ]
     },
     "execution_count": 39,
     "metadata": {},
     "output_type": "execute_result"
    }
   ],
   "source": [
    "df.logerror.mean()"
   ]
  },
  {
   "cell_type": "markdown",
   "metadata": {},
   "source": [
    "#### Keep the Master Latitude Longitude DataFrame"
   ]
  },
  {
   "cell_type": "code",
   "execution_count": 5,
   "metadata": {},
   "outputs": [],
   "source": [
    "lat_long = df[['latitude','longitude']]"
   ]
  },
  {
   "cell_type": "code",
   "execution_count": 8,
   "metadata": {},
   "outputs": [
    {
     "data": {
      "text/plain": [
       "73424"
      ]
     },
     "execution_count": 8,
     "metadata": {},
     "output_type": "execute_result"
    }
   ],
   "source": [
    "len(lat_long)"
   ]
  },
  {
   "cell_type": "markdown",
   "metadata": {},
   "source": [
    "# Prepare\n",
    "\n",
    "### Get rid of nulls. Heating will get imputed. Null rows will be dropped."
   ]
  },
  {
   "cell_type": "code",
   "execution_count": 9,
   "metadata": {},
   "outputs": [],
   "source": [
    "#The columns that have to do with the building themselves. No location data except for lat-long.\n",
    "house_vars = ['fullbathcnt','bathroomcnt','bedroomcnt','calculatedfinishedsquarefeet','heatingorsystemtypeid','lotsizesquarefeet','yearbuilt','structuretaxvaluedollarcnt', 'taxvaluedollarcnt','latitude','longitude','logerror']"
   ]
  },
  {
   "cell_type": "code",
   "execution_count": 10,
   "metadata": {},
   "outputs": [
    {
     "data": {
      "text/plain": [
       "['fullbathcnt',\n",
       " 'bathroomcnt',\n",
       " 'bedroomcnt',\n",
       " 'calculatedfinishedsquarefeet',\n",
       " 'heatingorsystemtypeid',\n",
       " 'lotsizesquarefeet',\n",
       " 'yearbuilt',\n",
       " 'structuretaxvaluedollarcnt',\n",
       " 'taxvaluedollarcnt',\n",
       " 'latitude',\n",
       " 'longitude',\n",
       " 'logerror']"
      ]
     },
     "execution_count": 10,
     "metadata": {},
     "output_type": "execute_result"
    }
   ],
   "source": [
    "house_vars"
   ]
  },
  {
   "cell_type": "code",
   "execution_count": 11,
   "metadata": {},
   "outputs": [],
   "source": [
    "structures_df = df[house_vars]"
   ]
  },
  {
   "cell_type": "code",
   "execution_count": 12,
   "metadata": {},
   "outputs": [],
   "source": [
    "structures_df.heatingorsystemtypeid.fillna(2, inplace=True)"
   ]
  },
  {
   "cell_type": "code",
   "execution_count": 13,
   "metadata": {},
   "outputs": [],
   "source": [
    "structures_df.dropna(inplace=True)"
   ]
  },
  {
   "cell_type": "code",
   "execution_count": 15,
   "metadata": {},
   "outputs": [
    {
     "data": {
      "text/html": [
       "<div>\n",
       "<style scoped>\n",
       "    .dataframe tbody tr th:only-of-type {\n",
       "        vertical-align: middle;\n",
       "    }\n",
       "\n",
       "    .dataframe tbody tr th {\n",
       "        vertical-align: top;\n",
       "    }\n",
       "\n",
       "    .dataframe thead th {\n",
       "        text-align: right;\n",
       "    }\n",
       "</style>\n",
       "<table border=\"1\" class=\"dataframe\">\n",
       "  <thead>\n",
       "    <tr style=\"text-align: right;\">\n",
       "      <th></th>\n",
       "      <th>num_rows_missing</th>\n",
       "      <th>pct_rows_missing</th>\n",
       "    </tr>\n",
       "  </thead>\n",
       "  <tbody>\n",
       "    <tr>\n",
       "      <th>fullbathcnt</th>\n",
       "      <td>0</td>\n",
       "      <td>0.0</td>\n",
       "    </tr>\n",
       "    <tr>\n",
       "      <th>bathroomcnt</th>\n",
       "      <td>0</td>\n",
       "      <td>0.0</td>\n",
       "    </tr>\n",
       "    <tr>\n",
       "      <th>bedroomcnt</th>\n",
       "      <td>0</td>\n",
       "      <td>0.0</td>\n",
       "    </tr>\n",
       "    <tr>\n",
       "      <th>calculatedfinishedsquarefeet</th>\n",
       "      <td>0</td>\n",
       "      <td>0.0</td>\n",
       "    </tr>\n",
       "    <tr>\n",
       "      <th>heatingorsystemtypeid</th>\n",
       "      <td>0</td>\n",
       "      <td>0.0</td>\n",
       "    </tr>\n",
       "    <tr>\n",
       "      <th>lotsizesquarefeet</th>\n",
       "      <td>0</td>\n",
       "      <td>0.0</td>\n",
       "    </tr>\n",
       "    <tr>\n",
       "      <th>yearbuilt</th>\n",
       "      <td>0</td>\n",
       "      <td>0.0</td>\n",
       "    </tr>\n",
       "    <tr>\n",
       "      <th>structuretaxvaluedollarcnt</th>\n",
       "      <td>0</td>\n",
       "      <td>0.0</td>\n",
       "    </tr>\n",
       "    <tr>\n",
       "      <th>taxvaluedollarcnt</th>\n",
       "      <td>0</td>\n",
       "      <td>0.0</td>\n",
       "    </tr>\n",
       "    <tr>\n",
       "      <th>latitude</th>\n",
       "      <td>0</td>\n",
       "      <td>0.0</td>\n",
       "    </tr>\n",
       "    <tr>\n",
       "      <th>longitude</th>\n",
       "      <td>0</td>\n",
       "      <td>0.0</td>\n",
       "    </tr>\n",
       "    <tr>\n",
       "      <th>logerror</th>\n",
       "      <td>0</td>\n",
       "      <td>0.0</td>\n",
       "    </tr>\n",
       "  </tbody>\n",
       "</table>\n",
       "</div>"
      ],
      "text/plain": [
       "                              num_rows_missing  pct_rows_missing\n",
       "fullbathcnt                                  0               0.0\n",
       "bathroomcnt                                  0               0.0\n",
       "bedroomcnt                                   0               0.0\n",
       "calculatedfinishedsquarefeet                 0               0.0\n",
       "heatingorsystemtypeid                        0               0.0\n",
       "lotsizesquarefeet                            0               0.0\n",
       "yearbuilt                                    0               0.0\n",
       "structuretaxvaluedollarcnt                   0               0.0\n",
       "taxvaluedollarcnt                            0               0.0\n",
       "latitude                                     0               0.0\n",
       "longitude                                    0               0.0\n",
       "logerror                                     0               0.0"
      ]
     },
     "execution_count": 15,
     "metadata": {},
     "output_type": "execute_result"
    }
   ],
   "source": [
    "summarize.nulls_by_col(structures_df)"
   ]
  },
  {
   "cell_type": "markdown",
   "metadata": {},
   "source": [
    "### Split into the train and test sets"
   ]
  },
  {
   "cell_type": "code",
   "execution_count": 16,
   "metadata": {},
   "outputs": [],
   "source": [
    "train, test = train_test_split(structures_df, train_size = .8, random_state = 123)"
   ]
  },
  {
   "cell_type": "code",
   "execution_count": null,
   "metadata": {},
   "outputs": [],
   "source": [
    "train.drop(['latitude','longitude'],axis=1,inplace=True)"
   ]
  },
  {
   "cell_type": "code",
   "execution_count": 21,
   "metadata": {},
   "outputs": [],
   "source": [
    "test.drop(['latitude','longitude'],axis=1,inplace=True)"
   ]
  },
  {
   "cell_type": "code",
   "execution_count": 19,
   "metadata": {},
   "outputs": [
    {
     "data": {
      "text/html": [
       "<div>\n",
       "<style scoped>\n",
       "    .dataframe tbody tr th:only-of-type {\n",
       "        vertical-align: middle;\n",
       "    }\n",
       "\n",
       "    .dataframe tbody tr th {\n",
       "        vertical-align: top;\n",
       "    }\n",
       "\n",
       "    .dataframe thead th {\n",
       "        text-align: right;\n",
       "    }\n",
       "</style>\n",
       "<table border=\"1\" class=\"dataframe\">\n",
       "  <thead>\n",
       "    <tr style=\"text-align: right;\">\n",
       "      <th></th>\n",
       "      <th>fullbathcnt</th>\n",
       "      <th>bathroomcnt</th>\n",
       "      <th>bedroomcnt</th>\n",
       "      <th>calculatedfinishedsquarefeet</th>\n",
       "      <th>heatingorsystemtypeid</th>\n",
       "      <th>lotsizesquarefeet</th>\n",
       "      <th>yearbuilt</th>\n",
       "      <th>structuretaxvaluedollarcnt</th>\n",
       "      <th>taxvaluedollarcnt</th>\n",
       "      <th>logerror</th>\n",
       "    </tr>\n",
       "  </thead>\n",
       "  <tbody>\n",
       "    <tr>\n",
       "      <th>61754</th>\n",
       "      <td>2.0</td>\n",
       "      <td>2.5</td>\n",
       "      <td>3.0</td>\n",
       "      <td>1773.0</td>\n",
       "      <td>2.0</td>\n",
       "      <td>3400.0</td>\n",
       "      <td>1991.0</td>\n",
       "      <td>211009.0</td>\n",
       "      <td>792686.0</td>\n",
       "      <td>0.179380</td>\n",
       "    </tr>\n",
       "    <tr>\n",
       "      <th>47292</th>\n",
       "      <td>2.0</td>\n",
       "      <td>2.0</td>\n",
       "      <td>3.0</td>\n",
       "      <td>1472.0</td>\n",
       "      <td>2.0</td>\n",
       "      <td>3478.0</td>\n",
       "      <td>1980.0</td>\n",
       "      <td>119984.0</td>\n",
       "      <td>267303.0</td>\n",
       "      <td>-0.249122</td>\n",
       "    </tr>\n",
       "    <tr>\n",
       "      <th>64754</th>\n",
       "      <td>4.0</td>\n",
       "      <td>4.0</td>\n",
       "      <td>4.0</td>\n",
       "      <td>3359.0</td>\n",
       "      <td>2.0</td>\n",
       "      <td>14043.0</td>\n",
       "      <td>1985.0</td>\n",
       "      <td>390284.0</td>\n",
       "      <td>852412.0</td>\n",
       "      <td>-0.009638</td>\n",
       "    </tr>\n",
       "    <tr>\n",
       "      <th>26374</th>\n",
       "      <td>3.0</td>\n",
       "      <td>3.0</td>\n",
       "      <td>3.0</td>\n",
       "      <td>2608.0</td>\n",
       "      <td>2.0</td>\n",
       "      <td>10946.0</td>\n",
       "      <td>1987.0</td>\n",
       "      <td>134116.0</td>\n",
       "      <td>194891.0</td>\n",
       "      <td>0.015984</td>\n",
       "    </tr>\n",
       "    <tr>\n",
       "      <th>56288</th>\n",
       "      <td>3.0</td>\n",
       "      <td>3.0</td>\n",
       "      <td>5.0</td>\n",
       "      <td>1930.0</td>\n",
       "      <td>2.0</td>\n",
       "      <td>7521.0</td>\n",
       "      <td>1960.0</td>\n",
       "      <td>99766.0</td>\n",
       "      <td>607280.0</td>\n",
       "      <td>-0.073379</td>\n",
       "    </tr>\n",
       "  </tbody>\n",
       "</table>\n",
       "</div>"
      ],
      "text/plain": [
       "       fullbathcnt  bathroomcnt  bedroomcnt  calculatedfinishedsquarefeet  \\\n",
       "61754          2.0          2.5         3.0                        1773.0   \n",
       "47292          2.0          2.0         3.0                        1472.0   \n",
       "64754          4.0          4.0         4.0                        3359.0   \n",
       "26374          3.0          3.0         3.0                        2608.0   \n",
       "56288          3.0          3.0         5.0                        1930.0   \n",
       "\n",
       "       heatingorsystemtypeid  lotsizesquarefeet  yearbuilt  \\\n",
       "61754                    2.0             3400.0     1991.0   \n",
       "47292                    2.0             3478.0     1980.0   \n",
       "64754                    2.0            14043.0     1985.0   \n",
       "26374                    2.0            10946.0     1987.0   \n",
       "56288                    2.0             7521.0     1960.0   \n",
       "\n",
       "       structuretaxvaluedollarcnt  taxvaluedollarcnt  logerror  \n",
       "61754                    211009.0           792686.0  0.179380  \n",
       "47292                    119984.0           267303.0 -0.249122  \n",
       "64754                    390284.0           852412.0 -0.009638  \n",
       "26374                    134116.0           194891.0  0.015984  \n",
       "56288                     99766.0           607280.0 -0.073379  "
      ]
     },
     "execution_count": 19,
     "metadata": {},
     "output_type": "execute_result"
    }
   ],
   "source": [
    "train.head()"
   ]
  },
  {
   "cell_type": "markdown",
   "metadata": {},
   "source": [
    "### USE STANDARD SCALING"
   ]
  },
  {
   "cell_type": "code",
   "execution_count": 22,
   "metadata": {},
   "outputs": [],
   "source": [
    "standard_train, standard_test, standard_object = prepare.standardize_train_test(train, test)"
   ]
  },
  {
   "cell_type": "markdown",
   "metadata": {},
   "source": [
    "### Drop the upper outliers"
   ]
  },
  {
   "cell_type": "code",
   "execution_count": 23,
   "metadata": {},
   "outputs": [],
   "source": [
    "no_outliers = prepare.remove_upper_outliers(standard_train.calculatedfinishedsquarefeet, train)\n",
    "no_outliers = prepare.remove_upper_outliers(standard_train.lotsizesquarefeet, train)"
   ]
  },
  {
   "cell_type": "code",
   "execution_count": 27,
   "metadata": {},
   "outputs": [
    {
     "data": {
      "text/plain": [
       "(43645, 10)"
      ]
     },
     "execution_count": 27,
     "metadata": {},
     "output_type": "execute_result"
    }
   ],
   "source": [
    "no_outliers.shape"
   ]
  },
  {
   "cell_type": "code",
   "execution_count": 28,
   "metadata": {},
   "outputs": [],
   "source": [
    "kmean = KMeans(n_clusters=3)"
   ]
  },
  {
   "cell_type": "code",
   "execution_count": 29,
   "metadata": {},
   "outputs": [
    {
     "data": {
      "text/plain": [
       "KMeans(algorithm='auto', copy_x=True, init='k-means++', max_iter=300,\n",
       "       n_clusters=3, n_init=10, n_jobs=None, precompute_distances='auto',\n",
       "       random_state=None, tol=0.0001, verbose=0)"
      ]
     },
     "execution_count": 29,
     "metadata": {},
     "output_type": "execute_result"
    }
   ],
   "source": [
    "kmean.fit(standard_train)"
   ]
  },
  {
   "cell_type": "code",
   "execution_count": 30,
   "metadata": {},
   "outputs": [],
   "source": [
    "predictions3 = kmean.labels_"
   ]
  },
  {
   "cell_type": "code",
   "execution_count": 31,
   "metadata": {},
   "outputs": [],
   "source": [
    "standard_train['cluster_labels3'] = predictions3"
   ]
  },
  {
   "cell_type": "code",
   "execution_count": 33,
   "metadata": {},
   "outputs": [
    {
     "data": {
      "text/plain": [
       "(array([0, 1, 2], dtype=int32), array([ 4520, 13820, 33860]))"
      ]
     },
     "execution_count": 33,
     "metadata": {},
     "output_type": "execute_result"
    }
   ],
   "source": [
    "np.unique(predictions3, return_counts=True)"
   ]
  },
  {
   "cell_type": "code",
   "execution_count": 34,
   "metadata": {},
   "outputs": [
    {
     "data": {
      "text/html": [
       "<div>\n",
       "<style scoped>\n",
       "    .dataframe tbody tr th:only-of-type {\n",
       "        vertical-align: middle;\n",
       "    }\n",
       "\n",
       "    .dataframe tbody tr th {\n",
       "        vertical-align: top;\n",
       "    }\n",
       "\n",
       "    .dataframe thead th {\n",
       "        text-align: right;\n",
       "    }\n",
       "</style>\n",
       "<table border=\"1\" class=\"dataframe\">\n",
       "  <thead>\n",
       "    <tr style=\"text-align: right;\">\n",
       "      <th></th>\n",
       "      <th>fullbathcnt</th>\n",
       "      <th>bathroomcnt</th>\n",
       "      <th>bedroomcnt</th>\n",
       "      <th>calculatedfinishedsquarefeet</th>\n",
       "      <th>heatingorsystemtypeid</th>\n",
       "      <th>lotsizesquarefeet</th>\n",
       "      <th>yearbuilt</th>\n",
       "      <th>structuretaxvaluedollarcnt</th>\n",
       "      <th>taxvaluedollarcnt</th>\n",
       "      <th>logerror</th>\n",
       "    </tr>\n",
       "    <tr>\n",
       "      <th>cluster_labels3</th>\n",
       "      <th></th>\n",
       "      <th></th>\n",
       "      <th></th>\n",
       "      <th></th>\n",
       "      <th></th>\n",
       "      <th></th>\n",
       "      <th></th>\n",
       "      <th></th>\n",
       "      <th></th>\n",
       "      <th></th>\n",
       "    </tr>\n",
       "  </thead>\n",
       "  <tbody>\n",
       "    <tr>\n",
       "      <th>0</th>\n",
       "      <td>2.032621</td>\n",
       "      <td>2.087592</td>\n",
       "      <td>1.374876</td>\n",
       "      <td>2.243567</td>\n",
       "      <td>-0.441037</td>\n",
       "      <td>-0.078210</td>\n",
       "      <td>0.733096</td>\n",
       "      <td>1.994253</td>\n",
       "      <td>1.745499</td>\n",
       "      <td>0.098596</td>\n",
       "    </tr>\n",
       "    <tr>\n",
       "      <th>1</th>\n",
       "      <td>-0.946069</td>\n",
       "      <td>-0.970138</td>\n",
       "      <td>-0.646101</td>\n",
       "      <td>-0.680541</td>\n",
       "      <td>1.308782</td>\n",
       "      <td>-0.091297</td>\n",
       "      <td>-0.937422</td>\n",
       "      <td>-0.434060</td>\n",
       "      <td>-0.303003</td>\n",
       "      <td>-0.024520</td>\n",
       "    </tr>\n",
       "    <tr>\n",
       "      <th>2</th>\n",
       "      <td>0.114803</td>\n",
       "      <td>0.117289</td>\n",
       "      <td>0.080174</td>\n",
       "      <td>-0.021732</td>\n",
       "      <td>-0.475307</td>\n",
       "      <td>0.047703</td>\n",
       "      <td>0.284748</td>\n",
       "      <td>-0.089052</td>\n",
       "      <td>-0.109337</td>\n",
       "      <td>-0.003154</td>\n",
       "    </tr>\n",
       "  </tbody>\n",
       "</table>\n",
       "</div>"
      ],
      "text/plain": [
       "                 fullbathcnt  bathroomcnt  bedroomcnt  \\\n",
       "cluster_labels3                                         \n",
       "0                   2.032621     2.087592    1.374876   \n",
       "1                  -0.946069    -0.970138   -0.646101   \n",
       "2                   0.114803     0.117289    0.080174   \n",
       "\n",
       "                 calculatedfinishedsquarefeet  heatingorsystemtypeid  \\\n",
       "cluster_labels3                                                        \n",
       "0                                    2.243567              -0.441037   \n",
       "1                                   -0.680541               1.308782   \n",
       "2                                   -0.021732              -0.475307   \n",
       "\n",
       "                 lotsizesquarefeet  yearbuilt  structuretaxvaluedollarcnt  \\\n",
       "cluster_labels3                                                             \n",
       "0                        -0.078210   0.733096                    1.994253   \n",
       "1                        -0.091297  -0.937422                   -0.434060   \n",
       "2                         0.047703   0.284748                   -0.089052   \n",
       "\n",
       "                 taxvaluedollarcnt  logerror  \n",
       "cluster_labels3                               \n",
       "0                         1.745499  0.098596  \n",
       "1                        -0.303003 -0.024520  \n",
       "2                        -0.109337 -0.003154  "
      ]
     },
     "execution_count": 34,
     "metadata": {},
     "output_type": "execute_result"
    }
   ],
   "source": [
    "standard_train.groupby('cluster_labels3').mean()"
   ]
  },
  {
   "cell_type": "code",
   "execution_count": 38,
   "metadata": {},
   "outputs": [],
   "source": [
    "## THE 2nd Cluster does the best. Very low log error."
   ]
  },
  {
   "cell_type": "code",
   "execution_count": 35,
   "metadata": {},
   "outputs": [],
   "source": [
    "standard_train[['latitude','longitude']] = lat_long"
   ]
  },
  {
   "cell_type": "code",
   "execution_count": 36,
   "metadata": {},
   "outputs": [
    {
     "data": {
      "text/html": [
       "<div>\n",
       "<style scoped>\n",
       "    .dataframe tbody tr th:only-of-type {\n",
       "        vertical-align: middle;\n",
       "    }\n",
       "\n",
       "    .dataframe tbody tr th {\n",
       "        vertical-align: top;\n",
       "    }\n",
       "\n",
       "    .dataframe thead th {\n",
       "        text-align: right;\n",
       "    }\n",
       "</style>\n",
       "<table border=\"1\" class=\"dataframe\">\n",
       "  <thead>\n",
       "    <tr style=\"text-align: right;\">\n",
       "      <th></th>\n",
       "      <th>fullbathcnt</th>\n",
       "      <th>bathroomcnt</th>\n",
       "      <th>bedroomcnt</th>\n",
       "      <th>calculatedfinishedsquarefeet</th>\n",
       "      <th>heatingorsystemtypeid</th>\n",
       "      <th>lotsizesquarefeet</th>\n",
       "      <th>yearbuilt</th>\n",
       "      <th>structuretaxvaluedollarcnt</th>\n",
       "      <th>taxvaluedollarcnt</th>\n",
       "      <th>logerror</th>\n",
       "      <th>cluster_labels3</th>\n",
       "      <th>latitude</th>\n",
       "      <th>longitude</th>\n",
       "    </tr>\n",
       "  </thead>\n",
       "  <tbody>\n",
       "    <tr>\n",
       "      <th>61754</th>\n",
       "      <td>-0.263107</td>\n",
       "      <td>0.202709</td>\n",
       "      <td>-0.111110</td>\n",
       "      <td>-0.038328</td>\n",
       "      <td>-0.503403</td>\n",
       "      <td>-0.220779</td>\n",
       "      <td>1.042818</td>\n",
       "      <td>0.082098</td>\n",
       "      <td>0.453035</td>\n",
       "      <td>0.980322</td>\n",
       "      <td>2</td>\n",
       "      <td>33517362.0</td>\n",
       "      <td>-117693103.0</td>\n",
       "    </tr>\n",
       "    <tr>\n",
       "      <th>47292</th>\n",
       "      <td>-0.263107</td>\n",
       "      <td>-0.314795</td>\n",
       "      <td>-0.111110</td>\n",
       "      <td>-0.355275</td>\n",
       "      <td>-0.503403</td>\n",
       "      <td>-0.220151</td>\n",
       "      <td>0.556773</td>\n",
       "      <td>-0.308258</td>\n",
       "      <td>-0.350412</td>\n",
       "      <td>-1.615293</td>\n",
       "      <td>2</td>\n",
       "      <td>33616901.0</td>\n",
       "      <td>-117632943.0</td>\n",
       "    </tr>\n",
       "    <tr>\n",
       "      <th>64754</th>\n",
       "      <td>1.849841</td>\n",
       "      <td>1.755222</td>\n",
       "      <td>0.900740</td>\n",
       "      <td>1.631703</td>\n",
       "      <td>-0.503403</td>\n",
       "      <td>-0.135126</td>\n",
       "      <td>0.777702</td>\n",
       "      <td>0.850910</td>\n",
       "      <td>0.544372</td>\n",
       "      <td>-0.164638</td>\n",
       "      <td>0</td>\n",
       "      <td>34159741.0</td>\n",
       "      <td>-118779874.0</td>\n",
       "    </tr>\n",
       "    <tr>\n",
       "      <th>26374</th>\n",
       "      <td>0.793367</td>\n",
       "      <td>0.720213</td>\n",
       "      <td>-0.111110</td>\n",
       "      <td>0.840913</td>\n",
       "      <td>-0.503403</td>\n",
       "      <td>-0.160050</td>\n",
       "      <td>0.866074</td>\n",
       "      <td>-0.247653</td>\n",
       "      <td>-0.461149</td>\n",
       "      <td>-0.009435</td>\n",
       "      <td>2</td>\n",
       "      <td>34079372.0</td>\n",
       "      <td>-117839908.0</td>\n",
       "    </tr>\n",
       "    <tr>\n",
       "      <th>56288</th>\n",
       "      <td>0.793367</td>\n",
       "      <td>0.720213</td>\n",
       "      <td>1.912589</td>\n",
       "      <td>0.126991</td>\n",
       "      <td>-0.503403</td>\n",
       "      <td>-0.187614</td>\n",
       "      <td>-0.326946</td>\n",
       "      <td>-0.394962</td>\n",
       "      <td>0.169501</td>\n",
       "      <td>-0.550744</td>\n",
       "      <td>2</td>\n",
       "      <td>33721710.0</td>\n",
       "      <td>-117991767.0</td>\n",
       "    </tr>\n",
       "  </tbody>\n",
       "</table>\n",
       "</div>"
      ],
      "text/plain": [
       "       fullbathcnt  bathroomcnt  bedroomcnt  calculatedfinishedsquarefeet  \\\n",
       "61754    -0.263107     0.202709   -0.111110                     -0.038328   \n",
       "47292    -0.263107    -0.314795   -0.111110                     -0.355275   \n",
       "64754     1.849841     1.755222    0.900740                      1.631703   \n",
       "26374     0.793367     0.720213   -0.111110                      0.840913   \n",
       "56288     0.793367     0.720213    1.912589                      0.126991   \n",
       "\n",
       "       heatingorsystemtypeid  lotsizesquarefeet  yearbuilt  \\\n",
       "61754              -0.503403          -0.220779   1.042818   \n",
       "47292              -0.503403          -0.220151   0.556773   \n",
       "64754              -0.503403          -0.135126   0.777702   \n",
       "26374              -0.503403          -0.160050   0.866074   \n",
       "56288              -0.503403          -0.187614  -0.326946   \n",
       "\n",
       "       structuretaxvaluedollarcnt  taxvaluedollarcnt  logerror  \\\n",
       "61754                    0.082098           0.453035  0.980322   \n",
       "47292                   -0.308258          -0.350412 -1.615293   \n",
       "64754                    0.850910           0.544372 -0.164638   \n",
       "26374                   -0.247653          -0.461149 -0.009435   \n",
       "56288                   -0.394962           0.169501 -0.550744   \n",
       "\n",
       "       cluster_labels3    latitude    longitude  \n",
       "61754                2  33517362.0 -117693103.0  \n",
       "47292                2  33616901.0 -117632943.0  \n",
       "64754                0  34159741.0 -118779874.0  \n",
       "26374                2  34079372.0 -117839908.0  \n",
       "56288                2  33721710.0 -117991767.0  "
      ]
     },
     "execution_count": 36,
     "metadata": {},
     "output_type": "execute_result"
    }
   ],
   "source": [
    "standard_train.head()"
   ]
  },
  {
   "cell_type": "code",
   "execution_count": 37,
   "metadata": {},
   "outputs": [
    {
     "data": {
      "text/plain": [
       "<matplotlib.axes._subplots.AxesSubplot at 0x1a1a8e4630>"
      ]
     },
     "execution_count": 37,
     "metadata": {},
     "output_type": "execute_result"
    },
    {
     "data": {
      "image/png": "[encoded data removed]",
      "text/plain": [
       "<Figure size 432x288 with 1 Axes>"
      ]
     },
     "metadata": {
      "needs_background": "light"
     },
     "output_type": "display_data"
    }
   ],
   "source": [
    "sns.scatterplot(data=standard_train, x='longitude', y='latitude', hue='cluster_labels3')"
   ]
  },
  {
   "cell_type": "code",
   "execution_count": null,
   "metadata": {},
   "outputs": [],
   "source": []
  }
 ],
 "metadata": {
  "kernelspec": {
   "display_name": "Python 3",
   "language": "python",
   "name": "python3"
  },
  "language_info": {
   "codemirror_mode": {
    "name": "ipython",
    "version": 3
   },
   "file_extension": ".py",
   "mimetype": "text/x-python",
   "name": "python",
   "nbconvert_exporter": "python",
   "pygments_lexer": "ipython3",
   "version": "3.7.3"
  }
 },
 "nbformat": 4,
 "nbformat_minor": 2
}
