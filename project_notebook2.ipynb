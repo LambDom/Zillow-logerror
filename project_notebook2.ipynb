{
 "cells": [
  {
   "cell_type": "markdown",
   "metadata": {},
   "source": [
    "#    Zillow Logerror Estimation Model\n",
    "\n",
    "\n",
    "## Project Goals\n",
    "1. create a model that can predict error in Zestimated values\n",
    "\n",
    "2. from that model, identify key features driving logerror\n",
    "\n",
    "3. clearly communicate finding to classmates\n",
    "\n",
    "## Project Requirements\n",
    "1. utilize clustering algorithms at some point in the pipeline\n",
    "\n",
    "2. utilize statistical testing to identify key features\n",
    "\n",
    "3. provide helpful visulatizations explaining exploration process\n",
    "\n",
    "4. use scaling methods on data and document why they we're used\n",
    "\n",
    "5. impute missing values and document\n",
    "\n",
    "6. encode cateorical data\n",
    "\n",
    "7. feature engineering and document rational behind it\n"
   ]
  },
  {
   "cell_type": "markdown",
   "metadata": {},
   "source": [
    "### 0. Imports"
   ]
  },
  {
   "cell_type": "code",
   "execution_count": 1,
   "metadata": {},
   "outputs": [],
   "source": [
    "#ignore warnings\n",
    "import warnings\n",
    "warnings.filterwarnings(\"ignore\")\n",
    "\n",
    "#python libraries used\n",
    "import pandas as pd\n",
    "import numpy as np\n",
    "import seaborn as sns\n",
    "import matplotlib.pyplot as plt\n",
    "from scipy import stats\n",
    "\n",
    "#sklearn\n",
    "from sklearn.impute import SimpleImputer\n",
    "\n",
    "#project specific functions\n",
    "import acquire\n",
    "import summarize\n",
    "import prepare\n",
    "import explore\n",
    "import modeling\n",
    "import cluster\n",
    "from env import host,password,user\n",
    "\n"
   ]
  },
  {
   "cell_type": "markdown",
   "metadata": {},
   "source": [
    "### I. Acquisition"
   ]
  },
  {
   "cell_type": "markdown",
   "metadata": {},
   "source": [
    "Get data on homes sold in 2017 with recorded Latitude and Longitude"
   ]
  },
  {
   "cell_type": "code",
   "execution_count": 2,
   "metadata": {},
   "outputs": [],
   "source": [
    "# #mysql query\n",
    "# query = '''\n",
    "#     SELECT prop.*, pred.logerror, pred.transactiondate\n",
    "#     FROM predictions_2017 AS pred\n",
    "#     LEFT JOIN properties_2017 AS prop  USING(parcelid)\n",
    "#     WHERE (bedroomcnt > 0 AND bathroomcnt > 0 AND calculatedfinishedsquarefeet > 500 AND latitude IS NOT NULL AND longitude IS NOT NULL) \n",
    "#     AND (unitcnt = 1 OR unitcnt IS NULL)\n",
    "#     ;\n",
    "#     '''\n",
    "# db_name = 'zillow'\n",
    "# #get data from database\n",
    "# zillow = pd.read_sql(query, f\"mysql+pymysql://{user}:{password}@{host}/{db_name}\")\n",
    "# print(f'Data frame shape:\\nrows: {zillow.shape[0]}\\ncolumns: {zillow.shape[1]}')"
   ]
  },
  {
   "cell_type": "code",
   "execution_count": 3,
   "metadata": {},
   "outputs": [],
   "source": [
    "zillow = pd.read_csv('data.csv')"
   ]
  },
  {
   "cell_type": "markdown",
   "metadata": {},
   "source": [
    "## II. Preparation"
   ]
  },
  {
   "cell_type": "markdown",
   "metadata": {},
   "source": [
    "Standardize all null values to *np.nan*"
   ]
  },
  {
   "cell_type": "code",
   "execution_count": 4,
   "metadata": {},
   "outputs": [],
   "source": [
    "zillow.fillna(value=pd.np.nan, inplace=True)"
   ]
  },
  {
   "cell_type": "markdown",
   "metadata": {},
   "source": [
    "Add some features I think will be significant"
   ]
  },
  {
   "cell_type": "code",
   "execution_count": 5,
   "metadata": {},
   "outputs": [],
   "source": [
    "zillow['has_basement'] = zillow.basementsqft > 0\n",
    "zillow['has_fireplace'] = zillow.fireplacecnt > 0\n",
    "zillow['has_deck'] = ~zillow.decktypeid.isna()\n",
    "zillow['has_garage'] = zillow.garagetotalsqft > 0\n",
    "zillow['has_pool_or_spa'] = (zillow.hashottuborspa == 1) | (zillow.poolcnt> 0)\n",
    "zillow['has_yardbuilding'] = (zillow.yardbuildingsqft17) > 0 | (zillow.yardbuildingsqft26 > 0)\n",
    "zillow['multistory'] = zillow.numberofstories > 1"
   ]
  },
  {
   "cell_type": "code",
   "execution_count": 6,
   "metadata": {},
   "outputs": [
    {
     "name": "stdout",
     "output_type": "stream",
     "text": [
      "Data frame has:\n",
      "rows: 73424\n",
      "columns: 68\n"
     ]
    }
   ],
   "source": [
    "print(f'Data frame has:\\nrows: {zillow.shape[0]}\\ncolumns: {zillow.shape[1]}')"
   ]
  },
  {
   "cell_type": "markdown",
   "metadata": {},
   "source": [
    "Drop columns that are missing over 25% of their data and rows that are missing over 60% "
   ]
  },
  {
   "cell_type": "code",
   "execution_count": 7,
   "metadata": {},
   "outputs": [
    {
     "name": "stdout",
     "output_type": "stream",
     "text": [
      "Data frame now has:\n",
      "rows: 73424\n",
      "columns: 43\n",
      "No rows were dropped using this criteria.\n"
     ]
    }
   ],
   "source": [
    "zillow = prepare.handle_missing_values(zillow, prop_required_column= .25, prop_required_row=.60)\n",
    "print(f'Data frame now has:\\nrows: {zillow.shape[0]}\\ncolumns: {zillow.shape[1]}')\n",
    "print(\"No rows were dropped using this criteria.\")"
   ]
  },
  {
   "cell_type": "markdown",
   "metadata": {},
   "source": [
    "Now we can clean up column names"
   ]
  },
  {
   "cell_type": "code",
   "execution_count": 8,
   "metadata": {},
   "outputs": [
    {
     "data": {
      "text/html": [
       "<div>\n",
       "<style scoped>\n",
       "    .dataframe tbody tr th:only-of-type {\n",
       "        vertical-align: middle;\n",
       "    }\n",
       "\n",
       "    .dataframe tbody tr th {\n",
       "        vertical-align: top;\n",
       "    }\n",
       "\n",
       "    .dataframe thead th {\n",
       "        text-align: right;\n",
       "    }\n",
       "</style>\n",
       "<table border=\"1\" class=\"dataframe\">\n",
       "  <thead>\n",
       "    <tr style=\"text-align: right;\">\n",
       "      <th></th>\n",
       "      <th>id</th>\n",
       "      <th>parcel_id</th>\n",
       "      <th>ac_type_id</th>\n",
       "      <th>bathroom_cnt</th>\n",
       "      <th>bedroom_cnt</th>\n",
       "      <th>building_quality_type</th>\n",
       "      <th>sum_bath_and_bed</th>\n",
       "      <th>square_feet</th>\n",
       "      <th>finishedsquarefeet12</th>\n",
       "      <th>fips_code</th>\n",
       "      <th>...</th>\n",
       "      <th>census_block</th>\n",
       "      <th>logerror</th>\n",
       "      <th>transaction_date</th>\n",
       "      <th>has_basement</th>\n",
       "      <th>has_fireplace</th>\n",
       "      <th>has_deck</th>\n",
       "      <th>has_garage</th>\n",
       "      <th>has_pool_or_spa</th>\n",
       "      <th>has_yardbuilding</th>\n",
       "      <th>multistory</th>\n",
       "    </tr>\n",
       "  </thead>\n",
       "  <tbody>\n",
       "    <tr>\n",
       "      <th>0</th>\n",
       "      <td>1727539</td>\n",
       "      <td>14297519</td>\n",
       "      <td>NaN</td>\n",
       "      <td>3.5</td>\n",
       "      <td>4.0</td>\n",
       "      <td>NaN</td>\n",
       "      <td>3.5</td>\n",
       "      <td>3100.0</td>\n",
       "      <td>3100.0</td>\n",
       "      <td>6059.0</td>\n",
       "      <td>...</td>\n",
       "      <td>6.059063e+13</td>\n",
       "      <td>0.025595</td>\n",
       "      <td>2017-01-01</td>\n",
       "      <td>False</td>\n",
       "      <td>False</td>\n",
       "      <td>False</td>\n",
       "      <td>True</td>\n",
       "      <td>False</td>\n",
       "      <td>False</td>\n",
       "      <td>False</td>\n",
       "    </tr>\n",
       "    <tr>\n",
       "      <th>1</th>\n",
       "      <td>1387261</td>\n",
       "      <td>17052889</td>\n",
       "      <td>NaN</td>\n",
       "      <td>1.0</td>\n",
       "      <td>2.0</td>\n",
       "      <td>NaN</td>\n",
       "      <td>1.0</td>\n",
       "      <td>1465.0</td>\n",
       "      <td>1465.0</td>\n",
       "      <td>6111.0</td>\n",
       "      <td>...</td>\n",
       "      <td>6.111001e+13</td>\n",
       "      <td>0.055619</td>\n",
       "      <td>2017-01-01</td>\n",
       "      <td>False</td>\n",
       "      <td>True</td>\n",
       "      <td>False</td>\n",
       "      <td>False</td>\n",
       "      <td>False</td>\n",
       "      <td>False</td>\n",
       "      <td>False</td>\n",
       "    </tr>\n",
       "    <tr>\n",
       "      <th>2</th>\n",
       "      <td>11677</td>\n",
       "      <td>14186244</td>\n",
       "      <td>NaN</td>\n",
       "      <td>2.0</td>\n",
       "      <td>3.0</td>\n",
       "      <td>NaN</td>\n",
       "      <td>2.0</td>\n",
       "      <td>1243.0</td>\n",
       "      <td>1243.0</td>\n",
       "      <td>6059.0</td>\n",
       "      <td>...</td>\n",
       "      <td>6.059022e+13</td>\n",
       "      <td>0.005383</td>\n",
       "      <td>2017-01-01</td>\n",
       "      <td>False</td>\n",
       "      <td>False</td>\n",
       "      <td>False</td>\n",
       "      <td>True</td>\n",
       "      <td>True</td>\n",
       "      <td>False</td>\n",
       "      <td>False</td>\n",
       "    </tr>\n",
       "    <tr>\n",
       "      <th>3</th>\n",
       "      <td>2288172</td>\n",
       "      <td>12177905</td>\n",
       "      <td>NaN</td>\n",
       "      <td>3.0</td>\n",
       "      <td>4.0</td>\n",
       "      <td>8.0</td>\n",
       "      <td>3.0</td>\n",
       "      <td>2376.0</td>\n",
       "      <td>2376.0</td>\n",
       "      <td>6037.0</td>\n",
       "      <td>...</td>\n",
       "      <td>6.037300e+13</td>\n",
       "      <td>-0.103410</td>\n",
       "      <td>2017-01-01</td>\n",
       "      <td>False</td>\n",
       "      <td>False</td>\n",
       "      <td>False</td>\n",
       "      <td>False</td>\n",
       "      <td>True</td>\n",
       "      <td>False</td>\n",
       "      <td>False</td>\n",
       "    </tr>\n",
       "    <tr>\n",
       "      <th>4</th>\n",
       "      <td>1970746</td>\n",
       "      <td>10887214</td>\n",
       "      <td>1.0</td>\n",
       "      <td>3.0</td>\n",
       "      <td>3.0</td>\n",
       "      <td>8.0</td>\n",
       "      <td>3.0</td>\n",
       "      <td>1312.0</td>\n",
       "      <td>1312.0</td>\n",
       "      <td>6037.0</td>\n",
       "      <td>...</td>\n",
       "      <td>6.037124e+13</td>\n",
       "      <td>0.006940</td>\n",
       "      <td>2017-01-01</td>\n",
       "      <td>False</td>\n",
       "      <td>False</td>\n",
       "      <td>False</td>\n",
       "      <td>False</td>\n",
       "      <td>True</td>\n",
       "      <td>False</td>\n",
       "      <td>False</td>\n",
       "    </tr>\n",
       "  </tbody>\n",
       "</table>\n",
       "<p>5 rows × 43 columns</p>\n",
       "</div>"
      ],
      "text/plain": [
       "        id  parcel_id  ac_type_id  bathroom_cnt  bedroom_cnt  \\\n",
       "0  1727539   14297519         NaN           3.5          4.0   \n",
       "1  1387261   17052889         NaN           1.0          2.0   \n",
       "2    11677   14186244         NaN           2.0          3.0   \n",
       "3  2288172   12177905         NaN           3.0          4.0   \n",
       "4  1970746   10887214         1.0           3.0          3.0   \n",
       "\n",
       "   building_quality_type  sum_bath_and_bed  square_feet  finishedsquarefeet12  \\\n",
       "0                    NaN               3.5       3100.0                3100.0   \n",
       "1                    NaN               1.0       1465.0                1465.0   \n",
       "2                    NaN               2.0       1243.0                1243.0   \n",
       "3                    8.0               3.0       2376.0                2376.0   \n",
       "4                    8.0               3.0       1312.0                1312.0   \n",
       "\n",
       "   fips_code  ...  census_block  logerror  transaction_date  has_basement  \\\n",
       "0     6059.0  ...  6.059063e+13  0.025595        2017-01-01         False   \n",
       "1     6111.0  ...  6.111001e+13  0.055619        2017-01-01         False   \n",
       "2     6059.0  ...  6.059022e+13  0.005383        2017-01-01         False   \n",
       "3     6037.0  ...  6.037300e+13 -0.103410        2017-01-01         False   \n",
       "4     6037.0  ...  6.037124e+13  0.006940        2017-01-01         False   \n",
       "\n",
       "   has_fireplace  has_deck  has_garage has_pool_or_spa  has_yardbuilding  \\\n",
       "0          False     False        True           False             False   \n",
       "1           True     False       False           False             False   \n",
       "2          False     False        True            True             False   \n",
       "3          False     False       False            True             False   \n",
       "4          False     False       False            True             False   \n",
       "\n",
       "  multistory  \n",
       "0      False  \n",
       "1      False  \n",
       "2      False  \n",
       "3      False  \n",
       "4      False  \n",
       "\n",
       "[5 rows x 43 columns]"
      ]
     },
     "execution_count": 8,
     "metadata": {},
     "output_type": "execute_result"
    }
   ],
   "source": [
    "zillow.rename(columns = {\n",
    "    'parcelid': 'parcel_id',\n",
    "    'airconditioningtypeid': 'ac_type_id',\n",
    "    'bathroomcnt': 'bathroom_cnt',\n",
    "    'bedroomcnt': 'bedroom_cnt',\n",
    "    'buildingqualitytypeid': 'building_quality_type',\n",
    "    'calculatedbathnbr': 'sum_bath_and_bed',\n",
    "    'calculatedfinishedsquarefeet': 'square_feet',\n",
    "    'fips': 'fips_code',\n",
    "    'fullbathcnt': 'full_bath_cnt',\n",
    "    'garagecarcnt': 'garage_car_cnt',\n",
    "    'garagetotalsqft': 'garage_sqr_ft',\n",
    "    'heatingorsystemtypeid': 'heating_type_id',\n",
    "    'lotsizesquarefeet': 'lot_sqr_ft',\n",
    "    'propertycountylandusecode': 'property_land_use_code',\n",
    "    'propertylandusetypeid': 'property_land_use_id',\n",
    "    'propertyzoningdesc': 'property_zoning',\n",
    "    'rawcensustractandblock': 'raw_census_block',\n",
    "    'regionidcity': 'city_id',\n",
    "    'regionidcounty': 'county_id',\n",
    "    'regionidneighborhood': 'neighborhood_id',\n",
    "    'regionidzip': 'zipcode_id',\n",
    "    'roomcnt': 'room_cnt',\n",
    "    'unitcnt': 'unit_cnt',\n",
    "    'yearbuilt': 'year_built',\n",
    "    'structuretaxvaluedollarcnt': 'building_value',\n",
    "    'taxvaluedollarcnt': 'total_value',\n",
    "    'assessmentyear': 'year_assessed',\n",
    "    'landtaxvaluedollarcnt': 'land_value',\n",
    "    'taxamount': 'tax_amount',\n",
    "    'censustractandblock': 'census_block',\n",
    "    'transactiondate': 'transaction_date'\n",
    "    }, inplace= True)\n",
    "zillow.head()"
   ]
  },
  {
   "cell_type": "markdown",
   "metadata": {},
   "source": [
    "### Dataframe Cleaning\n",
    "- drop redundant columns\n",
    "     \n",
    "- drop columns with no variance (single values columns)\n",
    "- change build year measure to house age and drop year_built\n",
    "- divide latitude and longitude by a factor of 6\n",
    "- dropping building quality type because it has no reference\n",
    "- impute missing values"
   ]
  },
  {
   "cell_type": "markdown",
   "metadata": {},
   "source": [
    "**Redundant Columns**\n",
    "1. raw_census_block and census_block hold the same information\n",
    "2. county_id and fips_id hold the same information\n",
    "3. garage_car_cnt and garage_sqr_ft are replaced with has_garage     "
   ]
  },
  {
   "cell_type": "code",
   "execution_count": 9,
   "metadata": {},
   "outputs": [],
   "source": [
    "zillow.drop(columns = 'raw_census_block', inplace= True)\n",
    "zillow.drop(columns = 'county_id', inplace= True)\n",
    "zillow.drop(columns = ['garage_sqr_ft', 'garage_car_cnt'], inplace= True)"
   ]
  },
  {
   "cell_type": "markdown",
   "metadata": {},
   "source": [
    "**Columns with no Variance**\n",
    "- unit_cnt and year_assessed\n",
    "    "
   ]
  },
  {
   "cell_type": "code",
   "execution_count": 10,
   "metadata": {},
   "outputs": [],
   "source": [
    "zillow.drop(columns = ['year_assessed', 'unit_cnt'], inplace= True)"
   ]
  },
  {
   "cell_type": "markdown",
   "metadata": {},
   "source": [
    "**Edit Columns**\n",
    "- Build year can be scaled reasonably by computing house age from date of assesment and replacing"
   ]
  },
  {
   "cell_type": "code",
   "execution_count": 11,
   "metadata": {},
   "outputs": [],
   "source": [
    "zillow['home_age'] = 2016 - zillow.year_built\n",
    "zillow.drop(columns = 'year_built', inplace= True)"
   ]
  },
  {
   "cell_type": "markdown",
   "metadata": {},
   "source": [
    "- Latitude and Longitude should be more useful for plotting if we shorten them."
   ]
  },
  {
   "cell_type": "code",
   "execution_count": 12,
   "metadata": {},
   "outputs": [],
   "source": [
    "zillow['latitude'] = zillow.latitude/(10^6)\n",
    "zillow['longitude'] = zillow.longitude/(10^6)"
   ]
  },
  {
   "cell_type": "markdown",
   "metadata": {},
   "source": [
    "- building quality type is getting dropped because it's meaning isn't listed anywhere"
   ]
  },
  {
   "cell_type": "code",
   "execution_count": 13,
   "metadata": {},
   "outputs": [],
   "source": [
    "zillow.drop(columns = 'building_quality_type', inplace=True)"
   ]
  },
  {
   "cell_type": "markdown",
   "metadata": {},
   "source": [
    "**impute missing values**\n",
    "- If a column has > 1,000 missing values, we'll consider imputing\n",
    "- If a column has too many unique values and too many missing rows, we'll drop it"
   ]
  },
  {
   "cell_type": "code",
   "execution_count": 14,
   "metadata": {},
   "outputs": [
    {
     "data": {
      "text/html": [
       "<div>\n",
       "<style scoped>\n",
       "    .dataframe tbody tr th:only-of-type {\n",
       "        vertical-align: middle;\n",
       "    }\n",
       "\n",
       "    .dataframe tbody tr th {\n",
       "        vertical-align: top;\n",
       "    }\n",
       "\n",
       "    .dataframe thead th {\n",
       "        text-align: right;\n",
       "    }\n",
       "</style>\n",
       "<table border=\"1\" class=\"dataframe\">\n",
       "  <thead>\n",
       "    <tr style=\"text-align: right;\">\n",
       "      <th></th>\n",
       "      <th>num_rows_missing</th>\n",
       "      <th>pct_rows_missing</th>\n",
       "    </tr>\n",
       "  </thead>\n",
       "  <tbody>\n",
       "    <tr>\n",
       "      <th>ac_type_id</th>\n",
       "      <td>48878</td>\n",
       "      <td>0.665695</td>\n",
       "    </tr>\n",
       "    <tr>\n",
       "      <th>neighborhood_id</th>\n",
       "      <td>44755</td>\n",
       "      <td>0.609542</td>\n",
       "    </tr>\n",
       "    <tr>\n",
       "      <th>property_zoning</th>\n",
       "      <td>26517</td>\n",
       "      <td>0.361149</td>\n",
       "    </tr>\n",
       "    <tr>\n",
       "      <th>heating_type_id</th>\n",
       "      <td>25224</td>\n",
       "      <td>0.343539</td>\n",
       "    </tr>\n",
       "    <tr>\n",
       "      <th>lot_sqr_ft</th>\n",
       "      <td>8067</td>\n",
       "      <td>0.109869</td>\n",
       "    </tr>\n",
       "    <tr>\n",
       "      <th>city_id</th>\n",
       "      <td>1437</td>\n",
       "      <td>0.019571</td>\n",
       "    </tr>\n",
       "  </tbody>\n",
       "</table>\n",
       "</div>"
      ],
      "text/plain": [
       "                 num_rows_missing  pct_rows_missing\n",
       "ac_type_id                  48878          0.665695\n",
       "neighborhood_id             44755          0.609542\n",
       "property_zoning             26517          0.361149\n",
       "heating_type_id             25224          0.343539\n",
       "lot_sqr_ft                   8067          0.109869\n",
       "city_id                      1437          0.019571"
      ]
     },
     "execution_count": 14,
     "metadata": {},
     "output_type": "execute_result"
    }
   ],
   "source": [
    "summarize.nulls_by_col(zillow).sort_values('num_rows_missing', ascending= False).head(6)"
   ]
  },
  {
   "cell_type": "markdown",
   "metadata": {},
   "source": [
    "- Looking at the top rows nuniques:"
   ]
  },
  {
   "cell_type": "code",
   "execution_count": 15,
   "metadata": {},
   "outputs": [
    {
     "data": {
      "text/html": [
       "<div>\n",
       "<style scoped>\n",
       "    .dataframe tbody tr th:only-of-type {\n",
       "        vertical-align: middle;\n",
       "    }\n",
       "\n",
       "    .dataframe tbody tr th {\n",
       "        vertical-align: top;\n",
       "    }\n",
       "\n",
       "    .dataframe thead th {\n",
       "        text-align: right;\n",
       "    }\n",
       "</style>\n",
       "<table border=\"1\" class=\"dataframe\">\n",
       "  <thead>\n",
       "    <tr style=\"text-align: right;\">\n",
       "      <th></th>\n",
       "      <th>n_uniques</th>\n",
       "    </tr>\n",
       "  </thead>\n",
       "  <tbody>\n",
       "    <tr>\n",
       "      <th>ac_type_id</th>\n",
       "      <td>5</td>\n",
       "    </tr>\n",
       "    <tr>\n",
       "      <th>neighborhood_id</th>\n",
       "      <td>477</td>\n",
       "    </tr>\n",
       "    <tr>\n",
       "      <th>property_zoning</th>\n",
       "      <td>1849</td>\n",
       "    </tr>\n",
       "    <tr>\n",
       "      <th>heating_type_id</th>\n",
       "      <td>10</td>\n",
       "    </tr>\n",
       "    <tr>\n",
       "      <th>lot_sqr_ft</th>\n",
       "      <td>18528</td>\n",
       "    </tr>\n",
       "    <tr>\n",
       "      <th>city_id</th>\n",
       "      <td>175</td>\n",
       "    </tr>\n",
       "  </tbody>\n",
       "</table>\n",
       "</div>"
      ],
      "text/plain": [
       "                 n_uniques\n",
       "ac_type_id               5\n",
       "neighborhood_id        477\n",
       "property_zoning       1849\n",
       "heating_type_id         10\n",
       "lot_sqr_ft           18528\n",
       "city_id                175"
      ]
     },
     "execution_count": 15,
     "metadata": {},
     "output_type": "execute_result"
    }
   ],
   "source": [
    "cols = ['ac_type_id', 'neighborhood_id', 'property_zoning', 'heating_type_id', 'lot_sqr_ft', 'city_id']\n",
    "pd.DataFrame(zillow[cols].nunique(), columns=['n_uniques'])"
   ]
  },
  {
   "cell_type": "markdown",
   "metadata": {},
   "source": [
    "- So Lets looks if there's a reasonable mode for ac_type and heating_type"
   ]
  },
  {
   "cell_type": "code",
   "execution_count": 16,
   "metadata": {},
   "outputs": [
    {
     "data": {
      "text/html": [
       "<div>\n",
       "<style scoped>\n",
       "    .dataframe tbody tr th:only-of-type {\n",
       "        vertical-align: middle;\n",
       "    }\n",
       "\n",
       "    .dataframe tbody tr th {\n",
       "        vertical-align: top;\n",
       "    }\n",
       "\n",
       "    .dataframe thead th {\n",
       "        text-align: right;\n",
       "    }\n",
       "</style>\n",
       "<table border=\"1\" class=\"dataframe\">\n",
       "  <thead>\n",
       "    <tr style=\"text-align: right;\">\n",
       "      <th></th>\n",
       "      <th>count</th>\n",
       "    </tr>\n",
       "  </thead>\n",
       "  <tbody>\n",
       "    <tr>\n",
       "      <th>1.0</th>\n",
       "      <td>22758</td>\n",
       "    </tr>\n",
       "    <tr>\n",
       "      <th>13.0</th>\n",
       "      <td>1567</td>\n",
       "    </tr>\n",
       "    <tr>\n",
       "      <th>5.0</th>\n",
       "      <td>167</td>\n",
       "    </tr>\n",
       "    <tr>\n",
       "      <th>11.0</th>\n",
       "      <td>53</td>\n",
       "    </tr>\n",
       "    <tr>\n",
       "      <th>9.0</th>\n",
       "      <td>1</td>\n",
       "    </tr>\n",
       "  </tbody>\n",
       "</table>\n",
       "</div>"
      ],
      "text/plain": [
       "      count\n",
       "1.0   22758\n",
       "13.0   1567\n",
       "5.0     167\n",
       "11.0     53\n",
       "9.0       1"
      ]
     },
     "execution_count": 16,
     "metadata": {},
     "output_type": "execute_result"
    }
   ],
   "source": [
    "#ac_type\n",
    "pd.DataFrame(zillow.ac_type_id.value_counts()).rename(columns = {'ac_type_id': 'count'})"
   ]
  },
  {
   "cell_type": "code",
   "execution_count": 17,
   "metadata": {},
   "outputs": [
    {
     "data": {
      "text/html": [
       "<div>\n",
       "<style scoped>\n",
       "    .dataframe tbody tr th:only-of-type {\n",
       "        vertical-align: middle;\n",
       "    }\n",
       "\n",
       "    .dataframe tbody tr th {\n",
       "        vertical-align: top;\n",
       "    }\n",
       "\n",
       "    .dataframe thead th {\n",
       "        text-align: right;\n",
       "    }\n",
       "</style>\n",
       "<table border=\"1\" class=\"dataframe\">\n",
       "  <thead>\n",
       "    <tr style=\"text-align: right;\">\n",
       "      <th></th>\n",
       "      <th>count</th>\n",
       "    </tr>\n",
       "  </thead>\n",
       "  <tbody>\n",
       "    <tr>\n",
       "      <th>2.0</th>\n",
       "      <td>33196</td>\n",
       "    </tr>\n",
       "    <tr>\n",
       "      <th>7.0</th>\n",
       "      <td>13192</td>\n",
       "    </tr>\n",
       "    <tr>\n",
       "      <th>24.0</th>\n",
       "      <td>836</td>\n",
       "    </tr>\n",
       "    <tr>\n",
       "      <th>6.0</th>\n",
       "      <td>773</td>\n",
       "    </tr>\n",
       "    <tr>\n",
       "      <th>20.0</th>\n",
       "      <td>104</td>\n",
       "    </tr>\n",
       "    <tr>\n",
       "      <th>13.0</th>\n",
       "      <td>59</td>\n",
       "    </tr>\n",
       "    <tr>\n",
       "      <th>18.0</th>\n",
       "      <td>23</td>\n",
       "    </tr>\n",
       "    <tr>\n",
       "      <th>1.0</th>\n",
       "      <td>13</td>\n",
       "    </tr>\n",
       "    <tr>\n",
       "      <th>10.0</th>\n",
       "      <td>3</td>\n",
       "    </tr>\n",
       "    <tr>\n",
       "      <th>11.0</th>\n",
       "      <td>1</td>\n",
       "    </tr>\n",
       "  </tbody>\n",
       "</table>\n",
       "</div>"
      ],
      "text/plain": [
       "      count\n",
       "2.0   33196\n",
       "7.0   13192\n",
       "24.0    836\n",
       "6.0     773\n",
       "20.0    104\n",
       "13.0     59\n",
       "18.0     23\n",
       "1.0      13\n",
       "10.0      3\n",
       "11.0      1"
      ]
     },
     "execution_count": 17,
     "metadata": {},
     "output_type": "execute_result"
    }
   ],
   "source": [
    "#Heating_type\n",
    "pd.DataFrame(zillow.heating_type_id.value_counts()).rename(columns = {'heating_type_id': 'count'})"
   ]
  },
  {
   "cell_type": "markdown",
   "metadata": {},
   "source": [
    "- And, since 93% of ac type are one value and 73% of heating are on value, we'll impute those columns with their modes"
   ]
  },
  {
   "cell_type": "code",
   "execution_count": 18,
   "metadata": {},
   "outputs": [],
   "source": [
    "mode_imputer = SimpleImputer(strategy= 'most_frequent')\n",
    "zillow[['ac_type_id', 'heating_type_id']] = mode_imputer.fit_transform(zillow[['ac_type_id', 'heating_type_id']])"
   ]
  },
  {
   "cell_type": "markdown",
   "metadata": {},
   "source": [
    "- lot_square_feet is a float value and can be imputed on median"
   ]
  },
  {
   "cell_type": "code",
   "execution_count": 19,
   "metadata": {},
   "outputs": [],
   "source": [
    "med_imputer = SimpleImputer(strategy= 'median')\n",
    "zillow[['lot_sqr_ft']] = med_imputer.fit_transform(zillow[['lot_sqr_ft']])"
   ]
  },
  {
   "cell_type": "markdown",
   "metadata": {},
   "source": [
    "- neighborhood_id, property_zoning, and city_id have too many unique values to comfortable impute and will be droped"
   ]
  },
  {
   "cell_type": "code",
   "execution_count": 20,
   "metadata": {},
   "outputs": [],
   "source": [
    "zillow.drop(columns=['neighborhood_id', 'property_zoning', 'city_id'], inplace= True)"
   ]
  },
  {
   "cell_type": "markdown",
   "metadata": {},
   "source": [
    "- and we'll drop remaining null rows"
   ]
  },
  {
   "cell_type": "code",
   "execution_count": 21,
   "metadata": {},
   "outputs": [],
   "source": [
    "zillow.dropna(inplace=True)"
   ]
  },
  {
   "cell_type": "markdown",
   "metadata": {},
   "source": [
    "zillow is now a cleaned of all nulls"
   ]
  },
  {
   "cell_type": "code",
   "execution_count": 22,
   "metadata": {},
   "outputs": [
    {
     "data": {
      "text/html": [
       "<div>\n",
       "<style scoped>\n",
       "    .dataframe tbody tr th:only-of-type {\n",
       "        vertical-align: middle;\n",
       "    }\n",
       "\n",
       "    .dataframe tbody tr th {\n",
       "        vertical-align: top;\n",
       "    }\n",
       "\n",
       "    .dataframe thead th {\n",
       "        text-align: right;\n",
       "    }\n",
       "</style>\n",
       "<table border=\"1\" class=\"dataframe\">\n",
       "  <thead>\n",
       "    <tr style=\"text-align: right;\">\n",
       "      <th></th>\n",
       "      <th>num_rows_missing</th>\n",
       "      <th>pct_rows_missing</th>\n",
       "    </tr>\n",
       "  </thead>\n",
       "  <tbody>\n",
       "    <tr>\n",
       "      <th>id</th>\n",
       "      <td>0</td>\n",
       "      <td>0.0</td>\n",
       "    </tr>\n",
       "    <tr>\n",
       "      <th>parcel_id</th>\n",
       "      <td>0</td>\n",
       "      <td>0.0</td>\n",
       "    </tr>\n",
       "    <tr>\n",
       "      <th>ac_type_id</th>\n",
       "      <td>0</td>\n",
       "      <td>0.0</td>\n",
       "    </tr>\n",
       "    <tr>\n",
       "      <th>bathroom_cnt</th>\n",
       "      <td>0</td>\n",
       "      <td>0.0</td>\n",
       "    </tr>\n",
       "    <tr>\n",
       "      <th>bedroom_cnt</th>\n",
       "      <td>0</td>\n",
       "      <td>0.0</td>\n",
       "    </tr>\n",
       "    <tr>\n",
       "      <th>sum_bath_and_bed</th>\n",
       "      <td>0</td>\n",
       "      <td>0.0</td>\n",
       "    </tr>\n",
       "    <tr>\n",
       "      <th>square_feet</th>\n",
       "      <td>0</td>\n",
       "      <td>0.0</td>\n",
       "    </tr>\n",
       "    <tr>\n",
       "      <th>finishedsquarefeet12</th>\n",
       "      <td>0</td>\n",
       "      <td>0.0</td>\n",
       "    </tr>\n",
       "    <tr>\n",
       "      <th>fips_code</th>\n",
       "      <td>0</td>\n",
       "      <td>0.0</td>\n",
       "    </tr>\n",
       "    <tr>\n",
       "      <th>full_bath_cnt</th>\n",
       "      <td>0</td>\n",
       "      <td>0.0</td>\n",
       "    </tr>\n",
       "    <tr>\n",
       "      <th>heating_type_id</th>\n",
       "      <td>0</td>\n",
       "      <td>0.0</td>\n",
       "    </tr>\n",
       "    <tr>\n",
       "      <th>latitude</th>\n",
       "      <td>0</td>\n",
       "      <td>0.0</td>\n",
       "    </tr>\n",
       "    <tr>\n",
       "      <th>longitude</th>\n",
       "      <td>0</td>\n",
       "      <td>0.0</td>\n",
       "    </tr>\n",
       "    <tr>\n",
       "      <th>lot_sqr_ft</th>\n",
       "      <td>0</td>\n",
       "      <td>0.0</td>\n",
       "    </tr>\n",
       "    <tr>\n",
       "      <th>property_land_use_code</th>\n",
       "      <td>0</td>\n",
       "      <td>0.0</td>\n",
       "    </tr>\n",
       "    <tr>\n",
       "      <th>property_land_use_id</th>\n",
       "      <td>0</td>\n",
       "      <td>0.0</td>\n",
       "    </tr>\n",
       "    <tr>\n",
       "      <th>zipcode_id</th>\n",
       "      <td>0</td>\n",
       "      <td>0.0</td>\n",
       "    </tr>\n",
       "    <tr>\n",
       "      <th>room_cnt</th>\n",
       "      <td>0</td>\n",
       "      <td>0.0</td>\n",
       "    </tr>\n",
       "    <tr>\n",
       "      <th>building_value</th>\n",
       "      <td>0</td>\n",
       "      <td>0.0</td>\n",
       "    </tr>\n",
       "    <tr>\n",
       "      <th>total_value</th>\n",
       "      <td>0</td>\n",
       "      <td>0.0</td>\n",
       "    </tr>\n",
       "    <tr>\n",
       "      <th>land_value</th>\n",
       "      <td>0</td>\n",
       "      <td>0.0</td>\n",
       "    </tr>\n",
       "    <tr>\n",
       "      <th>tax_amount</th>\n",
       "      <td>0</td>\n",
       "      <td>0.0</td>\n",
       "    </tr>\n",
       "    <tr>\n",
       "      <th>census_block</th>\n",
       "      <td>0</td>\n",
       "      <td>0.0</td>\n",
       "    </tr>\n",
       "    <tr>\n",
       "      <th>logerror</th>\n",
       "      <td>0</td>\n",
       "      <td>0.0</td>\n",
       "    </tr>\n",
       "    <tr>\n",
       "      <th>transaction_date</th>\n",
       "      <td>0</td>\n",
       "      <td>0.0</td>\n",
       "    </tr>\n",
       "    <tr>\n",
       "      <th>has_basement</th>\n",
       "      <td>0</td>\n",
       "      <td>0.0</td>\n",
       "    </tr>\n",
       "    <tr>\n",
       "      <th>has_fireplace</th>\n",
       "      <td>0</td>\n",
       "      <td>0.0</td>\n",
       "    </tr>\n",
       "    <tr>\n",
       "      <th>has_deck</th>\n",
       "      <td>0</td>\n",
       "      <td>0.0</td>\n",
       "    </tr>\n",
       "    <tr>\n",
       "      <th>has_garage</th>\n",
       "      <td>0</td>\n",
       "      <td>0.0</td>\n",
       "    </tr>\n",
       "    <tr>\n",
       "      <th>has_pool_or_spa</th>\n",
       "      <td>0</td>\n",
       "      <td>0.0</td>\n",
       "    </tr>\n",
       "    <tr>\n",
       "      <th>has_yardbuilding</th>\n",
       "      <td>0</td>\n",
       "      <td>0.0</td>\n",
       "    </tr>\n",
       "    <tr>\n",
       "      <th>multistory</th>\n",
       "      <td>0</td>\n",
       "      <td>0.0</td>\n",
       "    </tr>\n",
       "    <tr>\n",
       "      <th>home_age</th>\n",
       "      <td>0</td>\n",
       "      <td>0.0</td>\n",
       "    </tr>\n",
       "  </tbody>\n",
       "</table>\n",
       "</div>"
      ],
      "text/plain": [
       "                        num_rows_missing  pct_rows_missing\n",
       "id                                     0               0.0\n",
       "parcel_id                              0               0.0\n",
       "ac_type_id                             0               0.0\n",
       "bathroom_cnt                           0               0.0\n",
       "bedroom_cnt                            0               0.0\n",
       "sum_bath_and_bed                       0               0.0\n",
       "square_feet                            0               0.0\n",
       "finishedsquarefeet12                   0               0.0\n",
       "fips_code                              0               0.0\n",
       "full_bath_cnt                          0               0.0\n",
       "heating_type_id                        0               0.0\n",
       "latitude                               0               0.0\n",
       "longitude                              0               0.0\n",
       "lot_sqr_ft                             0               0.0\n",
       "property_land_use_code                 0               0.0\n",
       "property_land_use_id                   0               0.0\n",
       "zipcode_id                             0               0.0\n",
       "room_cnt                               0               0.0\n",
       "building_value                         0               0.0\n",
       "total_value                            0               0.0\n",
       "land_value                             0               0.0\n",
       "tax_amount                             0               0.0\n",
       "census_block                           0               0.0\n",
       "logerror                               0               0.0\n",
       "transaction_date                       0               0.0\n",
       "has_basement                           0               0.0\n",
       "has_fireplace                          0               0.0\n",
       "has_deck                               0               0.0\n",
       "has_garage                             0               0.0\n",
       "has_pool_or_spa                        0               0.0\n",
       "has_yardbuilding                       0               0.0\n",
       "multistory                             0               0.0\n",
       "home_age                               0               0.0"
      ]
     },
     "execution_count": 22,
     "metadata": {},
     "output_type": "execute_result"
    }
   ],
   "source": [
    "summarize.nulls_by_col(zillow)"
   ]
  },
  {
   "cell_type": "markdown",
   "metadata": {},
   "source": [
    "## III. Exploration"
   ]
  },
  {
   "cell_type": "markdown",
   "metadata": {},
   "source": [
    "Removing the geographic fields, the transaction_date, id numbers, and full_bath_cnt."
   ]
  },
  {
   "cell_type": "code",
   "execution_count": 23,
   "metadata": {},
   "outputs": [],
   "source": [
    "lat_long = zillow[['latitude','longitude']]"
   ]
  },
  {
   "cell_type": "code",
   "execution_count": 24,
   "metadata": {},
   "outputs": [],
   "source": [
    "fips_code = zillow['fips_code']\n",
    "parcel_id = zillow['parcel_id']"
   ]
  },
  {
   "cell_type": "code",
   "execution_count": 25,
   "metadata": {},
   "outputs": [],
   "source": [
    "zillow2 = zillow.drop(['transaction_date',\n",
    "              'property_land_use_code', \n",
    "              'property_land_use_id', \n",
    "              'id', \n",
    "              'parcel_id',\n",
    "              'zipcode_id',\n",
    "              'fips_code',\n",
    "              'census_block',\n",
    "              'finishedsquarefeet12',\n",
    "              'full_bath_cnt',\n",
    "              'latitude',\n",
    "              'longitude'], axis=1)"
   ]
  },
  {
   "cell_type": "code",
   "execution_count": 26,
   "metadata": {},
   "outputs": [
    {
     "name": "stdout",
     "output_type": "stream",
     "text": [
      "<class 'pandas.core.frame.DataFrame'>\n",
      "Int64Index: 72891 entries, 0 to 73423\n",
      "Data columns (total 21 columns):\n",
      "ac_type_id          72891 non-null float64\n",
      "bathroom_cnt        72891 non-null float64\n",
      "bedroom_cnt         72891 non-null float64\n",
      "sum_bath_and_bed    72891 non-null float64\n",
      "square_feet         72891 non-null float64\n",
      "heating_type_id     72891 non-null float64\n",
      "lot_sqr_ft          72891 non-null float64\n",
      "room_cnt            72891 non-null float64\n",
      "building_value      72891 non-null float64\n",
      "total_value         72891 non-null float64\n",
      "land_value          72891 non-null float64\n",
      "tax_amount          72891 non-null float64\n",
      "logerror            72891 non-null float64\n",
      "has_basement        72891 non-null bool\n",
      "has_fireplace       72891 non-null bool\n",
      "has_deck            72891 non-null bool\n",
      "has_garage          72891 non-null bool\n",
      "has_pool_or_spa     72891 non-null bool\n",
      "has_yardbuilding    72891 non-null bool\n",
      "multistory          72891 non-null bool\n",
      "home_age            72891 non-null float64\n",
      "dtypes: bool(7), float64(14)\n",
      "memory usage: 8.8 MB\n"
     ]
    }
   ],
   "source": [
    "zillow2.info()"
   ]
  },
  {
   "cell_type": "markdown",
   "metadata": {},
   "source": [
    "Applying Standard Scaling to the features"
   ]
  },
  {
   "cell_type": "code",
   "execution_count": 27,
   "metadata": {},
   "outputs": [],
   "source": [
    "df_standard, df2, std_object = cluster.standardize_train_test(zillow2, zillow2)\n",
    "#The std_object will be used later to un-scale the data for human observation"
   ]
  },
  {
   "cell_type": "code",
   "execution_count": 28,
   "metadata": {},
   "outputs": [
    {
     "name": "stdout",
     "output_type": "stream",
     "text": [
      "<class 'pandas.core.frame.DataFrame'>\n",
      "Int64Index: 72891 entries, 0 to 73423\n",
      "Data columns (total 21 columns):\n",
      "ac_type_id          72891 non-null float64\n",
      "bathroom_cnt        72891 non-null float64\n",
      "bedroom_cnt         72891 non-null float64\n",
      "sum_bath_and_bed    72891 non-null float64\n",
      "square_feet         72891 non-null float64\n",
      "heating_type_id     72891 non-null float64\n",
      "lot_sqr_ft          72891 non-null float64\n",
      "room_cnt            72891 non-null float64\n",
      "building_value      72891 non-null float64\n",
      "total_value         72891 non-null float64\n",
      "land_value          72891 non-null float64\n",
      "tax_amount          72891 non-null float64\n",
      "logerror            72891 non-null float64\n",
      "has_basement        72891 non-null float64\n",
      "has_fireplace       72891 non-null float64\n",
      "has_deck            72891 non-null float64\n",
      "has_garage          72891 non-null float64\n",
      "has_pool_or_spa     72891 non-null float64\n",
      "has_yardbuilding    72891 non-null float64\n",
      "multistory          72891 non-null float64\n",
      "home_age            72891 non-null float64\n",
      "dtypes: float64(21)\n",
      "memory usage: 12.2 MB\n"
     ]
    }
   ],
   "source": [
    "df_standard.info()"
   ]
  },
  {
   "cell_type": "code",
   "execution_count": 29,
   "metadata": {},
   "outputs": [
    {
     "name": "stdout",
     "output_type": "stream",
     "text": [
      "1 : 3.7266212025364776\n",
      "2 : 3.4015382881437044\n",
      "3 : 3.211669522647184\n",
      "4 : 3.033763490000996\n",
      "5 : 2.964479441671943\n",
      "6 : 2.9426050609491683\n",
      "7 : 2.723875341583363\n",
      "8 : 2.7497502532093367\n",
      "9 : 2.64783435354561\n"
     ]
    }
   ],
   "source": [
    "cluster.list_inertia_scores(df_standard)"
   ]
  },
  {
   "cell_type": "markdown",
   "metadata": {},
   "source": [
    "## Clustering\n",
    "#### First Model will use 2 clusters."
   ]
  },
  {
   "cell_type": "code",
   "execution_count": 30,
   "metadata": {},
   "outputs": [],
   "source": [
    "two_cluster_df = cluster.make_clusters(df_standard, n_clusters=2)"
   ]
  },
  {
   "cell_type": "markdown",
   "metadata": {},
   "source": [
    "Looks like a lopsided clustering. 75/25 split."
   ]
  },
  {
   "cell_type": "code",
   "execution_count": 31,
   "metadata": {},
   "outputs": [
    {
     "data": {
      "text/plain": [
       "0    54648\n",
       "1    18243\n",
       "Name: cluster_labels, dtype: int64"
      ]
     },
     "execution_count": 31,
     "metadata": {},
     "output_type": "execute_result"
    }
   ],
   "source": [
    "two_cluster_df['cluster_labels'].value_counts()"
   ]
  },
  {
   "cell_type": "code",
   "execution_count": 32,
   "metadata": {},
   "outputs": [
    {
     "data": {
      "text/plain": [
       "0.7500240084509747"
      ]
     },
     "execution_count": 32,
     "metadata": {},
     "output_type": "execute_result"
    }
   ],
   "source": [
    "54670/72891"
   ]
  },
  {
   "cell_type": "code",
   "execution_count": 33,
   "metadata": {},
   "outputs": [
    {
     "data": {
      "image/png": "[encoded data removed]",
      "text/plain": [
       "<Figure size 432x288 with 1 Axes>"
      ]
     },
     "metadata": {
      "needs_background": "light"
     },
     "output_type": "display_data"
    }
   ],
   "source": [
    "cluster.show_clusters_on_map(two_cluster_df)"
   ]
  },
  {
   "cell_type": "markdown",
   "metadata": {},
   "source": [
    "The Lat-Long and the Cluser Labels will be dropped to match the scaling object created when the feature matrix was scaled"
   ]
  },
  {
   "cell_type": "code",
   "execution_count": 34,
   "metadata": {},
   "outputs": [],
   "source": [
    "cluster_labels = two_cluster_df.cluster_labels\n",
    "two_cluster_df.drop('cluster_labels',axis=1,inplace=True)\n",
    "two_cluster_df.drop(['latitude','longitude'],axis=1,inplace=True)"
   ]
  },
  {
   "cell_type": "markdown",
   "metadata": {},
   "source": [
    "The dataframe is unscaled for human readibility when comparing the two clusters"
   ]
  },
  {
   "cell_type": "code",
   "execution_count": 35,
   "metadata": {},
   "outputs": [],
   "source": [
    "scaler, unscaled_df = cluster.my_inv_transform(std_object, two_cluster_df)"
   ]
  },
  {
   "cell_type": "markdown",
   "metadata": {},
   "source": [
    "Labels are re-attached"
   ]
  },
  {
   "cell_type": "code",
   "execution_count": 36,
   "metadata": {},
   "outputs": [],
   "source": [
    "unscaled_df['cluster_labels'] = cluster_labels"
   ]
  },
  {
   "cell_type": "markdown",
   "metadata": {},
   "source": [
    "### EXPLORE THOSE CLUSTERS"
   ]
  },
  {
   "cell_type": "markdown",
   "metadata": {},
   "source": [
    "Breakdown of mean values for all fields of each cluster."
   ]
  },
  {
   "cell_type": "code",
   "execution_count": 37,
   "metadata": {},
   "outputs": [
    {
     "data": {
      "text/html": [
       "<div>\n",
       "<style scoped>\n",
       "    .dataframe tbody tr th:only-of-type {\n",
       "        vertical-align: middle;\n",
       "    }\n",
       "\n",
       "    .dataframe tbody tr th {\n",
       "        vertical-align: top;\n",
       "    }\n",
       "\n",
       "    .dataframe thead th {\n",
       "        text-align: right;\n",
       "    }\n",
       "</style>\n",
       "<table border=\"1\" class=\"dataframe\">\n",
       "  <thead>\n",
       "    <tr style=\"text-align: right;\">\n",
       "      <th></th>\n",
       "      <th>ac_type_id</th>\n",
       "      <th>bathroom_cnt</th>\n",
       "      <th>bedroom_cnt</th>\n",
       "      <th>sum_bath_and_bed</th>\n",
       "      <th>square_feet</th>\n",
       "      <th>heating_type_id</th>\n",
       "      <th>lot_sqr_ft</th>\n",
       "      <th>room_cnt</th>\n",
       "      <th>building_value</th>\n",
       "      <th>total_value</th>\n",
       "      <th>...</th>\n",
       "      <th>tax_amount</th>\n",
       "      <th>logerror</th>\n",
       "      <th>has_basement</th>\n",
       "      <th>has_fireplace</th>\n",
       "      <th>has_deck</th>\n",
       "      <th>has_garage</th>\n",
       "      <th>has_pool_or_spa</th>\n",
       "      <th>has_yardbuilding</th>\n",
       "      <th>multistory</th>\n",
       "      <th>home_age</th>\n",
       "    </tr>\n",
       "    <tr>\n",
       "      <th>cluster_labels</th>\n",
       "      <th></th>\n",
       "      <th></th>\n",
       "      <th></th>\n",
       "      <th></th>\n",
       "      <th></th>\n",
       "      <th></th>\n",
       "      <th></th>\n",
       "      <th></th>\n",
       "      <th></th>\n",
       "      <th></th>\n",
       "      <th></th>\n",
       "      <th></th>\n",
       "      <th></th>\n",
       "      <th></th>\n",
       "      <th></th>\n",
       "      <th></th>\n",
       "      <th></th>\n",
       "      <th></th>\n",
       "      <th></th>\n",
       "      <th></th>\n",
       "      <th></th>\n",
       "    </tr>\n",
       "  </thead>\n",
       "  <tbody>\n",
       "    <tr>\n",
       "      <th>0</th>\n",
       "      <td>1.045198</td>\n",
       "      <td>2.009945</td>\n",
       "      <td>2.743522</td>\n",
       "      <td>2.009945</td>\n",
       "      <td>1442.921790</td>\n",
       "      <td>3.588329</td>\n",
       "      <td>33410.667691</td>\n",
       "      <td>0.687125</td>\n",
       "      <td>134153.950135</td>\n",
       "      <td>345393.502946</td>\n",
       "      <td>...</td>\n",
       "      <td>4358.957630</td>\n",
       "      <td>0.013589</td>\n",
       "      <td>0.000201</td>\n",
       "      <td>0.016835</td>\n",
       "      <td>0.001501</td>\n",
       "      <td>0.100351</td>\n",
       "      <td>0.175340</td>\n",
       "      <td>0.009076</td>\n",
       "      <td>0.018354</td>\n",
       "      <td>49.372768</td>\n",
       "    </tr>\n",
       "    <tr>\n",
       "      <th>1</th>\n",
       "      <td>1.957518</td>\n",
       "      <td>3.134051</td>\n",
       "      <td>3.885764</td>\n",
       "      <td>3.134051</td>\n",
       "      <td>2722.844817</td>\n",
       "      <td>2.165050</td>\n",
       "      <td>13022.548046</td>\n",
       "      <td>4.117853</td>\n",
       "      <td>355127.656855</td>\n",
       "      <td>914909.662775</td>\n",
       "      <td>...</td>\n",
       "      <td>10740.360752</td>\n",
       "      <td>0.025658</td>\n",
       "      <td>0.002138</td>\n",
       "      <td>0.398893</td>\n",
       "      <td>0.028504</td>\n",
       "      <td>0.669243</td>\n",
       "      <td>0.373129</td>\n",
       "      <td>0.101518</td>\n",
       "      <td>0.325824</td>\n",
       "      <td>36.521351</td>\n",
       "    </tr>\n",
       "  </tbody>\n",
       "</table>\n",
       "<p>2 rows × 21 columns</p>\n",
       "</div>"
      ],
      "text/plain": [
       "                ac_type_id  bathroom_cnt  bedroom_cnt  sum_bath_and_bed  \\\n",
       "cluster_labels                                                            \n",
       "0                 1.045198      2.009945     2.743522          2.009945   \n",
       "1                 1.957518      3.134051     3.885764          3.134051   \n",
       "\n",
       "                square_feet  heating_type_id    lot_sqr_ft  room_cnt  \\\n",
       "cluster_labels                                                         \n",
       "0               1442.921790         3.588329  33410.667691  0.687125   \n",
       "1               2722.844817         2.165050  13022.548046  4.117853   \n",
       "\n",
       "                building_value    total_value  ...    tax_amount  logerror  \\\n",
       "cluster_labels                                 ...                           \n",
       "0                134153.950135  345393.502946  ...   4358.957630  0.013589   \n",
       "1                355127.656855  914909.662775  ...  10740.360752  0.025658   \n",
       "\n",
       "                has_basement  has_fireplace  has_deck  has_garage  \\\n",
       "cluster_labels                                                      \n",
       "0                   0.000201       0.016835  0.001501    0.100351   \n",
       "1                   0.002138       0.398893  0.028504    0.669243   \n",
       "\n",
       "                has_pool_or_spa  has_yardbuilding  multistory   home_age  \n",
       "cluster_labels                                                            \n",
       "0                      0.175340          0.009076    0.018354  49.372768  \n",
       "1                      0.373129          0.101518    0.325824  36.521351  \n",
       "\n",
       "[2 rows x 21 columns]"
      ]
     },
     "execution_count": 37,
     "metadata": {},
     "output_type": "execute_result"
    }
   ],
   "source": [
    "unscaled_df.groupby('cluster_labels').mean()"
   ]
  },
  {
   "cell_type": "markdown",
   "metadata": {},
   "source": [
    "The logerror for all observations"
   ]
  },
  {
   "cell_type": "code",
   "execution_count": 38,
   "metadata": {},
   "outputs": [
    {
     "data": {
      "text/plain": [
       "0.016609865210700406"
      ]
     },
     "execution_count": 38,
     "metadata": {},
     "output_type": "execute_result"
    }
   ],
   "source": [
    "unscaled_df.logerror.mean()"
   ]
  },
  {
   "cell_type": "markdown",
   "metadata": {},
   "source": [
    "The logerror for each cluster"
   ]
  },
  {
   "cell_type": "code",
   "execution_count": 39,
   "metadata": {},
   "outputs": [
    {
     "data": {
      "text/plain": [
       "cluster_labels\n",
       "0    0.013589\n",
       "1    0.025658\n",
       "Name: logerror, dtype: float64"
      ]
     },
     "execution_count": 39,
     "metadata": {},
     "output_type": "execute_result"
    }
   ],
   "source": [
    "unscaled_df.groupby('cluster_labels').logerror.mean()"
   ]
  },
  {
   "cell_type": "markdown",
   "metadata": {},
   "source": [
    "Re-attaching the fips_code to see how the clusters fit in the city codes."
   ]
  },
  {
   "cell_type": "code",
   "execution_count": 40,
   "metadata": {},
   "outputs": [],
   "source": [
    "unscaled_df['fips_code'] = fips_code"
   ]
  },
  {
   "cell_type": "code",
   "execution_count": 41,
   "metadata": {},
   "outputs": [
    {
     "data": {
      "text/plain": [
       "6037.0    46910\n",
       "6059.0    19951\n",
       "6111.0     6030\n",
       "Name: fips_code, dtype: int64"
      ]
     },
     "execution_count": 41,
     "metadata": {},
     "output_type": "execute_result"
    }
   ],
   "source": [
    "fips_code.value_counts()"
   ]
  },
  {
   "cell_type": "code",
   "execution_count": 42,
   "metadata": {},
   "outputs": [
    {
     "data": {
      "image/png": "[encoded data removed]",
      "text/plain": [
       "<Figure size 432x288 with 1 Axes>"
      ]
     },
     "metadata": {
      "needs_background": "light"
     },
     "output_type": "display_data"
    }
   ],
   "source": [
    "cluster.show_clusters_on_map(unscaled_df, cluster_label='fips_code')"
   ]
  },
  {
   "cell_type": "code",
   "execution_count": 43,
   "metadata": {},
   "outputs": [
    {
     "data": {
      "image/png": "[encoded data removed]",
      "text/plain": [
       "<Figure size 432x288 with 1 Axes>"
      ]
     },
     "metadata": {
      "needs_background": "light"
     },
     "output_type": "display_data"
    }
   ],
   "source": [
    "cluster.show_clusters_on_map(unscaled_df, cluster_label='cluster_labels')"
   ]
  },
  {
   "cell_type": "code",
   "execution_count": 44,
   "metadata": {},
   "outputs": [],
   "source": [
    "big_cluster = unscaled_df[unscaled_df.cluster_labels == 0]"
   ]
  },
  {
   "cell_type": "code",
   "execution_count": 45,
   "metadata": {},
   "outputs": [],
   "source": [
    "lil_cluster = unscaled_df[unscaled_df.cluster_labels == 1]"
   ]
  },
  {
   "cell_type": "code",
   "execution_count": 46,
   "metadata": {},
   "outputs": [
    {
     "data": {
      "text/plain": [
       "Ttest_1sampResult(statistic=-4.608505196861498, pvalue=4.064894318362612e-06)"
      ]
     },
     "execution_count": 46,
     "metadata": {},
     "output_type": "execute_result"
    }
   ],
   "source": [
    "stats.ttest_1samp(big_cluster.logerror, unscaled_df.logerror.mean())"
   ]
  },
  {
   "cell_type": "code",
   "execution_count": 47,
   "metadata": {},
   "outputs": [
    {
     "data": {
      "text/plain": [
       "Ttest_1sampResult(statistic=6.479469338297125, pvalue=9.440017035662429e-11)"
      ]
     },
     "execution_count": 47,
     "metadata": {},
     "output_type": "execute_result"
    }
   ],
   "source": [
    "stats.ttest_1samp(lil_cluster.logerror, unscaled_df.logerror.mean())"
   ]
  },
  {
   "cell_type": "code",
   "execution_count": null,
   "metadata": {},
   "outputs": [],
   "source": []
  }
 ],
 "metadata": {
  "kernelspec": {
   "display_name": "Python 3",
   "language": "python",
   "name": "python3"
  },
  "language_info": {
   "codemirror_mode": {
    "name": "ipython",
    "version": 3
   },
   "file_extension": ".py",
   "mimetype": "text/x-python",
   "name": "python",
   "nbconvert_exporter": "python",
   "pygments_lexer": "ipython3",
   "version": "3.7.0"
  }
 },
 "nbformat": 4,
 "nbformat_minor": 2
}
