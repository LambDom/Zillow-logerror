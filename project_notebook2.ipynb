{
 "cells": [
  {
   "cell_type": "markdown",
   "metadata": {},
   "source": [
    "#    Zillow Logerror Estimation Model\n",
    "\n",
    "\n",
    "## Project Goals\n",
    "1. create a model that can predict error in Zestimated values\n",
    "\n",
    "2. from that model, identify key features driving logerror\n",
    "\n",
    "3. clearly communicate finding to classmates\n",
    "\n",
    "## Project Requirements\n",
    "1. utilize clustering algorithms at some point in the pipeline\n",
    "\n",
    "2. utilize statistical testing to identify key features\n",
    "\n",
    "3. provide helpful visulatizations explaining exploration process\n",
    "\n",
    "4. use scaling methods on data and document why they we're used\n",
    "\n",
    "5. impute missing values and document\n",
    "\n",
    "6. encode cateorical data\n",
    "\n",
    "7. feature engineering and document rational behind it\n"
   ]
  },
  {
   "cell_type": "markdown",
   "metadata": {},
   "source": [
    "### 0. Imports"
   ]
  },
  {
   "cell_type": "code",
   "execution_count": 7,
   "metadata": {},
   "outputs": [],
   "source": [
    "#ignore warnings\n",
    "import warnings\n",
    "warnings.filterwarnings(\"ignore\")\n",
    "\n",
    "#python libraries used\n",
    "import pandas as pd\n",
    "import numpy as np\n",
    "import seaborn as sns\n",
    "import matplotlib.pyplot as plt\n",
    "from scipy import stats\n",
    "\n",
    "#sklearn\n",
    "from sklearn.impute import SimpleImputer\n",
    "\n",
    "#project specific functions\n",
    "import acquire\n",
    "import summarize\n",
    "import prepare\n",
    "import explore\n",
    "import modeling\n",
    "import cluster\n",
    "from env import host,password,user\n",
    "\n"
   ]
  },
  {
   "cell_type": "markdown",
   "metadata": {},
   "source": [
    "### I. Acquisition"
   ]
  },
  {
   "cell_type": "markdown",
   "metadata": {},
   "source": [
    "Get data on homes sold in 2017 with recorded Latitude and Longitude"
   ]
  },
  {
   "cell_type": "code",
   "execution_count": 8,
   "metadata": {},
   "outputs": [],
   "source": [
    "# #mysql query\n",
    "# query = '''\n",
    "#     SELECT prop.*, pred.logerror, pred.transactiondate\n",
    "#     FROM predictions_2017 AS pred\n",
    "#     LEFT JOIN properties_2017 AS prop  USING(parcelid)\n",
    "#     WHERE (bedroomcnt > 0 AND bathroomcnt > 0 AND calculatedfinishedsquarefeet > 500 AND latitude IS NOT NULL AND longitude IS NOT NULL) \n",
    "#     AND (unitcnt = 1 OR unitcnt IS NULL)\n",
    "#     ;\n",
    "#     '''\n",
    "# db_name = 'zillow'\n",
    "# #get data from database\n",
    "# zillow = pd.read_sql(query, f\"mysql+pymysql://{user}:{password}@{host}/{db_name}\")\n",
    "# print(f'Data frame shape:\\nrows: {zillow.shape[0]}\\ncolumns: {zillow.shape[1]}')"
   ]
  },
  {
   "cell_type": "code",
   "execution_count": 9,
   "metadata": {},
   "outputs": [],
   "source": [
    "zillow = pd.read_csv('data.csv')"
   ]
  },
  {
   "cell_type": "markdown",
   "metadata": {},
   "source": [
    "## II. Preparation"
   ]
  },
  {
   "cell_type": "markdown",
   "metadata": {},
   "source": [
    "Standardize all null values to *np.nan*"
   ]
  },
  {
   "cell_type": "code",
   "execution_count": 10,
   "metadata": {},
   "outputs": [],
   "source": [
    "zillow.fillna(value=pd.np.nan, inplace=True)"
   ]
  },
  {
   "cell_type": "markdown",
   "metadata": {},
   "source": [
    "Add some features I think will be significant"
   ]
  },
  {
   "cell_type": "code",
   "execution_count": 11,
   "metadata": {},
   "outputs": [],
   "source": [
    "zillow['has_basement'] = zillow.basementsqft > 0\n",
    "zillow['has_fireplace'] = zillow.fireplacecnt > 0\n",
    "zillow['has_deck'] = ~zillow.decktypeid.isna()\n",
    "zillow['has_garage'] = zillow.garagetotalsqft > 0\n",
    "zillow['has_pool_or_spa'] = (zillow.hashottuborspa == 1) | (zillow.poolcnt> 0)\n",
    "zillow['has_yardbuilding'] = (zillow.yardbuildingsqft17) > 0 | (zillow.yardbuildingsqft26 > 0)\n",
    "zillow['multistory'] = zillow.numberofstories > 1\n",
    "zillow['abs_logerror'] = zillow.logerror.apply(abs)"
   ]
  },
  {
   "cell_type": "code",
   "execution_count": 12,
   "metadata": {},
   "outputs": [
    {
     "name": "stdout",
     "output_type": "stream",
     "text": [
      "Data frame has:\n",
      "rows: 73424\n",
      "columns: 69\n"
     ]
    }
   ],
   "source": [
    "print(f'Data frame has:\\nrows: {zillow.shape[0]}\\ncolumns: {zillow.shape[1]}')"
   ]
  },
  {
   "cell_type": "markdown",
   "metadata": {},
   "source": [
    "Drop columns that are missing over 25% of their data and rows that are missing over 60% "
   ]
  },
  {
   "cell_type": "code",
   "execution_count": 13,
   "metadata": {},
   "outputs": [
    {
     "name": "stdout",
     "output_type": "stream",
     "text": [
      "Data frame now has:\n",
      "rows: 73424\n",
      "columns: 44\n",
      "No rows were dropped using this criteria.\n"
     ]
    }
   ],
   "source": [
    "zillow = prepare.handle_missing_values(zillow, prop_required_column= .25, prop_required_row=.60)\n",
    "print(f'Data frame now has:\\nrows: {zillow.shape[0]}\\ncolumns: {zillow.shape[1]}')\n",
    "print(\"No rows were dropped using this criteria.\")"
   ]
  },
  {
   "cell_type": "markdown",
   "metadata": {},
   "source": [
    "Now we can clean up column names"
   ]
  },
  {
   "cell_type": "code",
   "execution_count": 14,
   "metadata": {},
   "outputs": [
    {
     "data": {
      "text/html": [
       "<div>\n",
       "<style scoped>\n",
       "    .dataframe tbody tr th:only-of-type {\n",
       "        vertical-align: middle;\n",
       "    }\n",
       "\n",
       "    .dataframe tbody tr th {\n",
       "        vertical-align: top;\n",
       "    }\n",
       "\n",
       "    .dataframe thead th {\n",
       "        text-align: right;\n",
       "    }\n",
       "</style>\n",
       "<table border=\"1\" class=\"dataframe\">\n",
       "  <thead>\n",
       "    <tr style=\"text-align: right;\">\n",
       "      <th></th>\n",
       "      <th>id</th>\n",
       "      <th>parcel_id</th>\n",
       "      <th>ac_type_id</th>\n",
       "      <th>bathroom_cnt</th>\n",
       "      <th>bedroom_cnt</th>\n",
       "      <th>building_quality_type</th>\n",
       "      <th>sum_bath_and_bed</th>\n",
       "      <th>square_feet</th>\n",
       "      <th>finishedsquarefeet12</th>\n",
       "      <th>fips_code</th>\n",
       "      <th>...</th>\n",
       "      <th>logerror</th>\n",
       "      <th>transaction_date</th>\n",
       "      <th>has_basement</th>\n",
       "      <th>has_fireplace</th>\n",
       "      <th>has_deck</th>\n",
       "      <th>has_garage</th>\n",
       "      <th>has_pool_or_spa</th>\n",
       "      <th>has_yardbuilding</th>\n",
       "      <th>multistory</th>\n",
       "      <th>abs_logerror</th>\n",
       "    </tr>\n",
       "  </thead>\n",
       "  <tbody>\n",
       "    <tr>\n",
       "      <th>0</th>\n",
       "      <td>1727539</td>\n",
       "      <td>14297519</td>\n",
       "      <td>NaN</td>\n",
       "      <td>3.5</td>\n",
       "      <td>4.0</td>\n",
       "      <td>NaN</td>\n",
       "      <td>3.5</td>\n",
       "      <td>3100.0</td>\n",
       "      <td>3100.0</td>\n",
       "      <td>6059.0</td>\n",
       "      <td>...</td>\n",
       "      <td>0.025595</td>\n",
       "      <td>2017-01-01</td>\n",
       "      <td>False</td>\n",
       "      <td>False</td>\n",
       "      <td>False</td>\n",
       "      <td>True</td>\n",
       "      <td>False</td>\n",
       "      <td>False</td>\n",
       "      <td>False</td>\n",
       "      <td>0.025595</td>\n",
       "    </tr>\n",
       "    <tr>\n",
       "      <th>1</th>\n",
       "      <td>1387261</td>\n",
       "      <td>17052889</td>\n",
       "      <td>NaN</td>\n",
       "      <td>1.0</td>\n",
       "      <td>2.0</td>\n",
       "      <td>NaN</td>\n",
       "      <td>1.0</td>\n",
       "      <td>1465.0</td>\n",
       "      <td>1465.0</td>\n",
       "      <td>6111.0</td>\n",
       "      <td>...</td>\n",
       "      <td>0.055619</td>\n",
       "      <td>2017-01-01</td>\n",
       "      <td>False</td>\n",
       "      <td>True</td>\n",
       "      <td>False</td>\n",
       "      <td>False</td>\n",
       "      <td>False</td>\n",
       "      <td>False</td>\n",
       "      <td>False</td>\n",
       "      <td>0.055619</td>\n",
       "    </tr>\n",
       "    <tr>\n",
       "      <th>2</th>\n",
       "      <td>11677</td>\n",
       "      <td>14186244</td>\n",
       "      <td>NaN</td>\n",
       "      <td>2.0</td>\n",
       "      <td>3.0</td>\n",
       "      <td>NaN</td>\n",
       "      <td>2.0</td>\n",
       "      <td>1243.0</td>\n",
       "      <td>1243.0</td>\n",
       "      <td>6059.0</td>\n",
       "      <td>...</td>\n",
       "      <td>0.005383</td>\n",
       "      <td>2017-01-01</td>\n",
       "      <td>False</td>\n",
       "      <td>False</td>\n",
       "      <td>False</td>\n",
       "      <td>True</td>\n",
       "      <td>True</td>\n",
       "      <td>False</td>\n",
       "      <td>False</td>\n",
       "      <td>0.005383</td>\n",
       "    </tr>\n",
       "    <tr>\n",
       "      <th>3</th>\n",
       "      <td>2288172</td>\n",
       "      <td>12177905</td>\n",
       "      <td>NaN</td>\n",
       "      <td>3.0</td>\n",
       "      <td>4.0</td>\n",
       "      <td>8.0</td>\n",
       "      <td>3.0</td>\n",
       "      <td>2376.0</td>\n",
       "      <td>2376.0</td>\n",
       "      <td>6037.0</td>\n",
       "      <td>...</td>\n",
       "      <td>-0.103410</td>\n",
       "      <td>2017-01-01</td>\n",
       "      <td>False</td>\n",
       "      <td>False</td>\n",
       "      <td>False</td>\n",
       "      <td>False</td>\n",
       "      <td>True</td>\n",
       "      <td>False</td>\n",
       "      <td>False</td>\n",
       "      <td>0.103410</td>\n",
       "    </tr>\n",
       "    <tr>\n",
       "      <th>4</th>\n",
       "      <td>1970746</td>\n",
       "      <td>10887214</td>\n",
       "      <td>1.0</td>\n",
       "      <td>3.0</td>\n",
       "      <td>3.0</td>\n",
       "      <td>8.0</td>\n",
       "      <td>3.0</td>\n",
       "      <td>1312.0</td>\n",
       "      <td>1312.0</td>\n",
       "      <td>6037.0</td>\n",
       "      <td>...</td>\n",
       "      <td>0.006940</td>\n",
       "      <td>2017-01-01</td>\n",
       "      <td>False</td>\n",
       "      <td>False</td>\n",
       "      <td>False</td>\n",
       "      <td>False</td>\n",
       "      <td>True</td>\n",
       "      <td>False</td>\n",
       "      <td>False</td>\n",
       "      <td>0.006940</td>\n",
       "    </tr>\n",
       "  </tbody>\n",
       "</table>\n",
       "<p>5 rows × 44 columns</p>\n",
       "</div>"
      ],
      "text/plain": [
       "        id  parcel_id  ac_type_id  bathroom_cnt  bedroom_cnt  \\\n",
       "0  1727539   14297519         NaN           3.5          4.0   \n",
       "1  1387261   17052889         NaN           1.0          2.0   \n",
       "2    11677   14186244         NaN           2.0          3.0   \n",
       "3  2288172   12177905         NaN           3.0          4.0   \n",
       "4  1970746   10887214         1.0           3.0          3.0   \n",
       "\n",
       "   building_quality_type  sum_bath_and_bed  square_feet  finishedsquarefeet12  \\\n",
       "0                    NaN               3.5       3100.0                3100.0   \n",
       "1                    NaN               1.0       1465.0                1465.0   \n",
       "2                    NaN               2.0       1243.0                1243.0   \n",
       "3                    8.0               3.0       2376.0                2376.0   \n",
       "4                    8.0               3.0       1312.0                1312.0   \n",
       "\n",
       "   fips_code  ...  logerror  transaction_date  has_basement  has_fireplace  \\\n",
       "0     6059.0  ...  0.025595        2017-01-01         False          False   \n",
       "1     6111.0  ...  0.055619        2017-01-01         False           True   \n",
       "2     6059.0  ...  0.005383        2017-01-01         False          False   \n",
       "3     6037.0  ... -0.103410        2017-01-01         False          False   \n",
       "4     6037.0  ...  0.006940        2017-01-01         False          False   \n",
       "\n",
       "   has_deck  has_garage  has_pool_or_spa has_yardbuilding  multistory  \\\n",
       "0     False        True            False            False       False   \n",
       "1     False       False            False            False       False   \n",
       "2     False        True             True            False       False   \n",
       "3     False       False             True            False       False   \n",
       "4     False       False             True            False       False   \n",
       "\n",
       "  abs_logerror  \n",
       "0     0.025595  \n",
       "1     0.055619  \n",
       "2     0.005383  \n",
       "3     0.103410  \n",
       "4     0.006940  \n",
       "\n",
       "[5 rows x 44 columns]"
      ]
     },
     "execution_count": 14,
     "metadata": {},
     "output_type": "execute_result"
    }
   ],
   "source": [
    "zillow.rename(columns = {\n",
    "    'parcelid': 'parcel_id',\n",
    "    'airconditioningtypeid': 'ac_type_id',\n",
    "    'bathroomcnt': 'bathroom_cnt',\n",
    "    'bedroomcnt': 'bedroom_cnt',\n",
    "    'buildingqualitytypeid': 'building_quality_type',\n",
    "    'calculatedbathnbr': 'sum_bath_and_bed',\n",
    "    'calculatedfinishedsquarefeet': 'square_feet',\n",
    "    'fips': 'fips_code',\n",
    "    'fullbathcnt': 'full_bath_cnt',\n",
    "    'garagecarcnt': 'garage_car_cnt',\n",
    "    'garagetotalsqft': 'garage_sqr_ft',\n",
    "    'heatingorsystemtypeid': 'heating_type_id',\n",
    "    'lotsizesquarefeet': 'lot_sqr_ft',\n",
    "    'propertycountylandusecode': 'property_land_use_code',\n",
    "    'propertylandusetypeid': 'property_land_use_id',\n",
    "    'propertyzoningdesc': 'property_zoning',\n",
    "    'rawcensustractandblock': 'raw_census_block',\n",
    "    'regionidcity': 'city_id',\n",
    "    'regionidcounty': 'county_id',\n",
    "    'regionidneighborhood': 'neighborhood_id',\n",
    "    'regionidzip': 'zipcode_id',\n",
    "    'roomcnt': 'room_cnt',\n",
    "    'unitcnt': 'unit_cnt',\n",
    "    'yearbuilt': 'year_built',\n",
    "    'structuretaxvaluedollarcnt': 'building_value',\n",
    "    'taxvaluedollarcnt': 'total_value',\n",
    "    'assessmentyear': 'year_assessed',\n",
    "    'landtaxvaluedollarcnt': 'land_value',\n",
    "    'taxamount': 'tax_amount',\n",
    "    'censustractandblock': 'census_block',\n",
    "    'transactiondate': 'transaction_date'\n",
    "    }, inplace= True)\n",
    "zillow.head()"
   ]
  },
  {
   "cell_type": "markdown",
   "metadata": {},
   "source": [
    "### Dataframe Cleaning\n",
    "- drop redundant columns\n",
    "     \n",
    "- drop columns with no variance (single values columns)\n",
    "- change build year measure to house age and drop year_built\n",
    "- divide latitude and longitude by a factor of 6\n",
    "- dropping building quality type because it has no reference\n",
    "- impute missing values"
   ]
  },
  {
   "cell_type": "markdown",
   "metadata": {},
   "source": [
    "**Redundant Columns**\n",
    "1. raw_census_block and census_block hold the same information\n",
    "2. county_id and fips_id hold the same information\n",
    "3. garage_car_cnt and garage_sqr_ft are replaced with has_garage     "
   ]
  },
  {
   "cell_type": "code",
   "execution_count": 15,
   "metadata": {},
   "outputs": [],
   "source": [
    "zillow.drop(columns = 'raw_census_block', inplace= True)\n",
    "zillow.drop(columns = 'county_id', inplace= True)\n",
    "zillow.drop(columns = ['garage_sqr_ft', 'garage_car_cnt'], inplace= True)"
   ]
  },
  {
   "cell_type": "markdown",
   "metadata": {},
   "source": [
    "**Columns with no Variance**\n",
    "- unit_cnt and year_assessed\n",
    "    "
   ]
  },
  {
   "cell_type": "code",
   "execution_count": 16,
   "metadata": {},
   "outputs": [],
   "source": [
    "zillow.drop(columns = ['year_assessed', 'unit_cnt'], inplace= True)"
   ]
  },
  {
   "cell_type": "markdown",
   "metadata": {},
   "source": [
    "**Is Room Count a Valid Column?**\n",
    "- Room count should be at least bedroom + bathroom count"
   ]
  },
  {
   "cell_type": "code",
   "execution_count": 69,
   "metadata": {},
   "outputs": [
    {
     "name": "stdout",
     "output_type": "stream",
     "text": [
      "There are 0 invalid room counts\n"
     ]
    }
   ],
   "source": [
    "invalid_rows = ((zillow.bedroom_cnt + zillow.bathroom_cnt) <= zillow.sum_bath_and_bed).sum()\n",
    "print(f'There are {invalid_rows} invalid room counts')"
   ]
  },
  {
   "cell_type": "markdown",
   "metadata": {},
   "source": [
    "- We're going to drop that row and re-compute a better one\n"
   ]
  },
  {
   "cell_type": "code",
   "execution_count": 18,
   "metadata": {},
   "outputs": [],
   "source": [
    "zillow.drop(columns = 'room_cnt', inplace= True)\n",
    "zillow['bed_bath_cnt'] = round(zillow.bedroom_cnt + zillow.bathroom_cnt)"
   ]
  },
  {
   "cell_type": "markdown",
   "metadata": {},
   "source": [
    "**Edit Columns**\n",
    "- Build year can be scaled reasonably by computing house age from date of assesment and replacing"
   ]
  },
  {
   "cell_type": "code",
   "execution_count": 19,
   "metadata": {},
   "outputs": [],
   "source": [
    "zillow['home_age'] = 2016 - zillow.year_built\n",
    "zillow.drop(columns = 'year_built', inplace= True)"
   ]
  },
  {
   "cell_type": "markdown",
   "metadata": {},
   "source": [
    "- Latitude and Longitude should be more useful for plotting if we shorten them."
   ]
  },
  {
   "cell_type": "code",
   "execution_count": 20,
   "metadata": {},
   "outputs": [],
   "source": [
    "zillow['latitude'] = zillow.latitude/(10^6)\n",
    "zillow['longitude'] = zillow.longitude/(10^6)"
   ]
  },
  {
   "cell_type": "markdown",
   "metadata": {},
   "source": [
    "- building quality type is getting dropped because it's meaning isn't listed anywhere"
   ]
  },
  {
   "cell_type": "code",
   "execution_count": 21,
   "metadata": {},
   "outputs": [],
   "source": [
    "zillow.drop(columns = 'building_quality_type', inplace=True)"
   ]
  },
  {
   "cell_type": "markdown",
   "metadata": {},
   "source": [
    "**impute missing values**\n",
    "- If a column has > 1,000 missing values, we'll consider imputing\n",
    "- If a column has too many unique values and too many missing rows, we'll drop it"
   ]
  },
  {
   "cell_type": "code",
   "execution_count": 22,
   "metadata": {},
   "outputs": [
    {
     "data": {
      "text/html": [
       "<div>\n",
       "<style scoped>\n",
       "    .dataframe tbody tr th:only-of-type {\n",
       "        vertical-align: middle;\n",
       "    }\n",
       "\n",
       "    .dataframe tbody tr th {\n",
       "        vertical-align: top;\n",
       "    }\n",
       "\n",
       "    .dataframe thead th {\n",
       "        text-align: right;\n",
       "    }\n",
       "</style>\n",
       "<table border=\"1\" class=\"dataframe\">\n",
       "  <thead>\n",
       "    <tr style=\"text-align: right;\">\n",
       "      <th></th>\n",
       "      <th>num_rows_missing</th>\n",
       "      <th>pct_rows_missing</th>\n",
       "    </tr>\n",
       "  </thead>\n",
       "  <tbody>\n",
       "    <tr>\n",
       "      <th>ac_type_id</th>\n",
       "      <td>48878</td>\n",
       "      <td>0.665695</td>\n",
       "    </tr>\n",
       "    <tr>\n",
       "      <th>neighborhood_id</th>\n",
       "      <td>44755</td>\n",
       "      <td>0.609542</td>\n",
       "    </tr>\n",
       "    <tr>\n",
       "      <th>property_zoning</th>\n",
       "      <td>26517</td>\n",
       "      <td>0.361149</td>\n",
       "    </tr>\n",
       "    <tr>\n",
       "      <th>heating_type_id</th>\n",
       "      <td>25224</td>\n",
       "      <td>0.343539</td>\n",
       "    </tr>\n",
       "    <tr>\n",
       "      <th>lot_sqr_ft</th>\n",
       "      <td>8067</td>\n",
       "      <td>0.109869</td>\n",
       "    </tr>\n",
       "    <tr>\n",
       "      <th>city_id</th>\n",
       "      <td>1437</td>\n",
       "      <td>0.019571</td>\n",
       "    </tr>\n",
       "  </tbody>\n",
       "</table>\n",
       "</div>"
      ],
      "text/plain": [
       "                 num_rows_missing  pct_rows_missing\n",
       "ac_type_id                  48878          0.665695\n",
       "neighborhood_id             44755          0.609542\n",
       "property_zoning             26517          0.361149\n",
       "heating_type_id             25224          0.343539\n",
       "lot_sqr_ft                   8067          0.109869\n",
       "city_id                      1437          0.019571"
      ]
     },
     "execution_count": 22,
     "metadata": {},
     "output_type": "execute_result"
    }
   ],
   "source": [
    "summarize.nulls_by_col(zillow).sort_values('num_rows_missing', ascending= False).head(6)"
   ]
  },
  {
   "cell_type": "markdown",
   "metadata": {},
   "source": [
    "- Looking at the top rows nuniques:"
   ]
  },
  {
   "cell_type": "code",
   "execution_count": 23,
   "metadata": {},
   "outputs": [
    {
     "data": {
      "text/html": [
       "<div>\n",
       "<style scoped>\n",
       "    .dataframe tbody tr th:only-of-type {\n",
       "        vertical-align: middle;\n",
       "    }\n",
       "\n",
       "    .dataframe tbody tr th {\n",
       "        vertical-align: top;\n",
       "    }\n",
       "\n",
       "    .dataframe thead th {\n",
       "        text-align: right;\n",
       "    }\n",
       "</style>\n",
       "<table border=\"1\" class=\"dataframe\">\n",
       "  <thead>\n",
       "    <tr style=\"text-align: right;\">\n",
       "      <th></th>\n",
       "      <th>n_uniques</th>\n",
       "    </tr>\n",
       "  </thead>\n",
       "  <tbody>\n",
       "    <tr>\n",
       "      <th>ac_type_id</th>\n",
       "      <td>5</td>\n",
       "    </tr>\n",
       "    <tr>\n",
       "      <th>neighborhood_id</th>\n",
       "      <td>477</td>\n",
       "    </tr>\n",
       "    <tr>\n",
       "      <th>property_zoning</th>\n",
       "      <td>1849</td>\n",
       "    </tr>\n",
       "    <tr>\n",
       "      <th>heating_type_id</th>\n",
       "      <td>10</td>\n",
       "    </tr>\n",
       "    <tr>\n",
       "      <th>lot_sqr_ft</th>\n",
       "      <td>18528</td>\n",
       "    </tr>\n",
       "    <tr>\n",
       "      <th>city_id</th>\n",
       "      <td>175</td>\n",
       "    </tr>\n",
       "  </tbody>\n",
       "</table>\n",
       "</div>"
      ],
      "text/plain": [
       "                 n_uniques\n",
       "ac_type_id               5\n",
       "neighborhood_id        477\n",
       "property_zoning       1849\n",
       "heating_type_id         10\n",
       "lot_sqr_ft           18528\n",
       "city_id                175"
      ]
     },
     "execution_count": 23,
     "metadata": {},
     "output_type": "execute_result"
    }
   ],
   "source": [
    "cols = ['ac_type_id', 'neighborhood_id', 'property_zoning', 'heating_type_id', 'lot_sqr_ft', 'city_id']\n",
    "pd.DataFrame(zillow[cols].nunique(), columns=['n_uniques'])"
   ]
  },
  {
   "cell_type": "markdown",
   "metadata": {},
   "source": [
    "- So Lets looks if there's a reasonable mode for ac_type and heating_type"
   ]
  },
  {
   "cell_type": "code",
   "execution_count": 24,
   "metadata": {},
   "outputs": [
    {
     "data": {
      "text/html": [
       "<div>\n",
       "<style scoped>\n",
       "    .dataframe tbody tr th:only-of-type {\n",
       "        vertical-align: middle;\n",
       "    }\n",
       "\n",
       "    .dataframe tbody tr th {\n",
       "        vertical-align: top;\n",
       "    }\n",
       "\n",
       "    .dataframe thead th {\n",
       "        text-align: right;\n",
       "    }\n",
       "</style>\n",
       "<table border=\"1\" class=\"dataframe\">\n",
       "  <thead>\n",
       "    <tr style=\"text-align: right;\">\n",
       "      <th></th>\n",
       "      <th>count</th>\n",
       "    </tr>\n",
       "  </thead>\n",
       "  <tbody>\n",
       "    <tr>\n",
       "      <th>1.0</th>\n",
       "      <td>22758</td>\n",
       "    </tr>\n",
       "    <tr>\n",
       "      <th>13.0</th>\n",
       "      <td>1567</td>\n",
       "    </tr>\n",
       "    <tr>\n",
       "      <th>5.0</th>\n",
       "      <td>167</td>\n",
       "    </tr>\n",
       "    <tr>\n",
       "      <th>11.0</th>\n",
       "      <td>53</td>\n",
       "    </tr>\n",
       "    <tr>\n",
       "      <th>9.0</th>\n",
       "      <td>1</td>\n",
       "    </tr>\n",
       "  </tbody>\n",
       "</table>\n",
       "</div>"
      ],
      "text/plain": [
       "      count\n",
       "1.0   22758\n",
       "13.0   1567\n",
       "5.0     167\n",
       "11.0     53\n",
       "9.0       1"
      ]
     },
     "execution_count": 24,
     "metadata": {},
     "output_type": "execute_result"
    }
   ],
   "source": [
    "#ac_type\n",
    "pd.DataFrame(zillow.ac_type_id.value_counts()).rename(columns = {'ac_type_id': 'count'})"
   ]
  },
  {
   "cell_type": "code",
   "execution_count": 25,
   "metadata": {},
   "outputs": [
    {
     "data": {
      "text/html": [
       "<div>\n",
       "<style scoped>\n",
       "    .dataframe tbody tr th:only-of-type {\n",
       "        vertical-align: middle;\n",
       "    }\n",
       "\n",
       "    .dataframe tbody tr th {\n",
       "        vertical-align: top;\n",
       "    }\n",
       "\n",
       "    .dataframe thead th {\n",
       "        text-align: right;\n",
       "    }\n",
       "</style>\n",
       "<table border=\"1\" class=\"dataframe\">\n",
       "  <thead>\n",
       "    <tr style=\"text-align: right;\">\n",
       "      <th></th>\n",
       "      <th>count</th>\n",
       "    </tr>\n",
       "  </thead>\n",
       "  <tbody>\n",
       "    <tr>\n",
       "      <th>2.0</th>\n",
       "      <td>33196</td>\n",
       "    </tr>\n",
       "    <tr>\n",
       "      <th>7.0</th>\n",
       "      <td>13192</td>\n",
       "    </tr>\n",
       "    <tr>\n",
       "      <th>24.0</th>\n",
       "      <td>836</td>\n",
       "    </tr>\n",
       "    <tr>\n",
       "      <th>6.0</th>\n",
       "      <td>773</td>\n",
       "    </tr>\n",
       "    <tr>\n",
       "      <th>20.0</th>\n",
       "      <td>104</td>\n",
       "    </tr>\n",
       "    <tr>\n",
       "      <th>13.0</th>\n",
       "      <td>59</td>\n",
       "    </tr>\n",
       "    <tr>\n",
       "      <th>18.0</th>\n",
       "      <td>23</td>\n",
       "    </tr>\n",
       "    <tr>\n",
       "      <th>1.0</th>\n",
       "      <td>13</td>\n",
       "    </tr>\n",
       "    <tr>\n",
       "      <th>10.0</th>\n",
       "      <td>3</td>\n",
       "    </tr>\n",
       "    <tr>\n",
       "      <th>11.0</th>\n",
       "      <td>1</td>\n",
       "    </tr>\n",
       "  </tbody>\n",
       "</table>\n",
       "</div>"
      ],
      "text/plain": [
       "      count\n",
       "2.0   33196\n",
       "7.0   13192\n",
       "24.0    836\n",
       "6.0     773\n",
       "20.0    104\n",
       "13.0     59\n",
       "18.0     23\n",
       "1.0      13\n",
       "10.0      3\n",
       "11.0      1"
      ]
     },
     "execution_count": 25,
     "metadata": {},
     "output_type": "execute_result"
    }
   ],
   "source": [
    "#Heating_type\n",
    "pd.DataFrame(zillow.heating_type_id.value_counts()).rename(columns = {'heating_type_id': 'count'})"
   ]
  },
  {
   "cell_type": "markdown",
   "metadata": {},
   "source": [
    "- And, since 93% of ac type are one value and 73% of heating are on value, we'll impute those columns with their modes"
   ]
  },
  {
   "cell_type": "code",
   "execution_count": 26,
   "metadata": {},
   "outputs": [],
   "source": [
    "mode_imputer = SimpleImputer(strategy= 'most_frequent')\n",
    "zillow[['ac_type_id', 'heating_type_id']] = mode_imputer.fit_transform(zillow[['ac_type_id', 'heating_type_id']])"
   ]
  },
  {
   "cell_type": "markdown",
   "metadata": {},
   "source": [
    "- lot_square_feet is a float value and can be imputed on median"
   ]
  },
  {
   "cell_type": "code",
   "execution_count": 27,
   "metadata": {},
   "outputs": [],
   "source": [
    "med_imputer = SimpleImputer(strategy= 'median')\n",
    "zillow[['lot_sqr_ft']] = med_imputer.fit_transform(zillow[['lot_sqr_ft']])"
   ]
  },
  {
   "cell_type": "markdown",
   "metadata": {},
   "source": [
    "- neighborhood_id, property_zoning, and city_id have too many unique values to comfortable impute and will be droped"
   ]
  },
  {
   "cell_type": "code",
   "execution_count": 28,
   "metadata": {},
   "outputs": [],
   "source": [
    "zillow.drop(columns=['neighborhood_id', 'property_zoning', 'city_id'], inplace= True)"
   ]
  },
  {
   "cell_type": "markdown",
   "metadata": {},
   "source": [
    "- and we'll drop remaining null rows"
   ]
  },
  {
   "cell_type": "code",
   "execution_count": 29,
   "metadata": {},
   "outputs": [],
   "source": [
    "zillow.dropna(inplace=True)"
   ]
  },
  {
   "cell_type": "markdown",
   "metadata": {},
   "source": [
    "zillow is now a cleaned of all nulls"
   ]
  },
  {
   "cell_type": "code",
   "execution_count": 30,
   "metadata": {},
   "outputs": [
    {
     "data": {
      "text/html": [
       "<div>\n",
       "<style scoped>\n",
       "    .dataframe tbody tr th:only-of-type {\n",
       "        vertical-align: middle;\n",
       "    }\n",
       "\n",
       "    .dataframe tbody tr th {\n",
       "        vertical-align: top;\n",
       "    }\n",
       "\n",
       "    .dataframe thead th {\n",
       "        text-align: right;\n",
       "    }\n",
       "</style>\n",
       "<table border=\"1\" class=\"dataframe\">\n",
       "  <thead>\n",
       "    <tr style=\"text-align: right;\">\n",
       "      <th></th>\n",
       "      <th>num_rows_missing</th>\n",
       "      <th>pct_rows_missing</th>\n",
       "    </tr>\n",
       "  </thead>\n",
       "  <tbody>\n",
       "    <tr>\n",
       "      <th>id</th>\n",
       "      <td>0</td>\n",
       "      <td>0.0</td>\n",
       "    </tr>\n",
       "    <tr>\n",
       "      <th>parcel_id</th>\n",
       "      <td>0</td>\n",
       "      <td>0.0</td>\n",
       "    </tr>\n",
       "    <tr>\n",
       "      <th>ac_type_id</th>\n",
       "      <td>0</td>\n",
       "      <td>0.0</td>\n",
       "    </tr>\n",
       "    <tr>\n",
       "      <th>bathroom_cnt</th>\n",
       "      <td>0</td>\n",
       "      <td>0.0</td>\n",
       "    </tr>\n",
       "    <tr>\n",
       "      <th>bedroom_cnt</th>\n",
       "      <td>0</td>\n",
       "      <td>0.0</td>\n",
       "    </tr>\n",
       "    <tr>\n",
       "      <th>sum_bath_and_bed</th>\n",
       "      <td>0</td>\n",
       "      <td>0.0</td>\n",
       "    </tr>\n",
       "    <tr>\n",
       "      <th>square_feet</th>\n",
       "      <td>0</td>\n",
       "      <td>0.0</td>\n",
       "    </tr>\n",
       "    <tr>\n",
       "      <th>finishedsquarefeet12</th>\n",
       "      <td>0</td>\n",
       "      <td>0.0</td>\n",
       "    </tr>\n",
       "    <tr>\n",
       "      <th>fips_code</th>\n",
       "      <td>0</td>\n",
       "      <td>0.0</td>\n",
       "    </tr>\n",
       "    <tr>\n",
       "      <th>full_bath_cnt</th>\n",
       "      <td>0</td>\n",
       "      <td>0.0</td>\n",
       "    </tr>\n",
       "    <tr>\n",
       "      <th>heating_type_id</th>\n",
       "      <td>0</td>\n",
       "      <td>0.0</td>\n",
       "    </tr>\n",
       "    <tr>\n",
       "      <th>latitude</th>\n",
       "      <td>0</td>\n",
       "      <td>0.0</td>\n",
       "    </tr>\n",
       "    <tr>\n",
       "      <th>longitude</th>\n",
       "      <td>0</td>\n",
       "      <td>0.0</td>\n",
       "    </tr>\n",
       "    <tr>\n",
       "      <th>lot_sqr_ft</th>\n",
       "      <td>0</td>\n",
       "      <td>0.0</td>\n",
       "    </tr>\n",
       "    <tr>\n",
       "      <th>property_land_use_code</th>\n",
       "      <td>0</td>\n",
       "      <td>0.0</td>\n",
       "    </tr>\n",
       "    <tr>\n",
       "      <th>property_land_use_id</th>\n",
       "      <td>0</td>\n",
       "      <td>0.0</td>\n",
       "    </tr>\n",
       "    <tr>\n",
       "      <th>zipcode_id</th>\n",
       "      <td>0</td>\n",
       "      <td>0.0</td>\n",
       "    </tr>\n",
       "    <tr>\n",
       "      <th>building_value</th>\n",
       "      <td>0</td>\n",
       "      <td>0.0</td>\n",
       "    </tr>\n",
       "    <tr>\n",
       "      <th>total_value</th>\n",
       "      <td>0</td>\n",
       "      <td>0.0</td>\n",
       "    </tr>\n",
       "    <tr>\n",
       "      <th>land_value</th>\n",
       "      <td>0</td>\n",
       "      <td>0.0</td>\n",
       "    </tr>\n",
       "    <tr>\n",
       "      <th>tax_amount</th>\n",
       "      <td>0</td>\n",
       "      <td>0.0</td>\n",
       "    </tr>\n",
       "    <tr>\n",
       "      <th>census_block</th>\n",
       "      <td>0</td>\n",
       "      <td>0.0</td>\n",
       "    </tr>\n",
       "    <tr>\n",
       "      <th>logerror</th>\n",
       "      <td>0</td>\n",
       "      <td>0.0</td>\n",
       "    </tr>\n",
       "    <tr>\n",
       "      <th>transaction_date</th>\n",
       "      <td>0</td>\n",
       "      <td>0.0</td>\n",
       "    </tr>\n",
       "    <tr>\n",
       "      <th>has_basement</th>\n",
       "      <td>0</td>\n",
       "      <td>0.0</td>\n",
       "    </tr>\n",
       "    <tr>\n",
       "      <th>has_fireplace</th>\n",
       "      <td>0</td>\n",
       "      <td>0.0</td>\n",
       "    </tr>\n",
       "    <tr>\n",
       "      <th>has_deck</th>\n",
       "      <td>0</td>\n",
       "      <td>0.0</td>\n",
       "    </tr>\n",
       "    <tr>\n",
       "      <th>has_garage</th>\n",
       "      <td>0</td>\n",
       "      <td>0.0</td>\n",
       "    </tr>\n",
       "    <tr>\n",
       "      <th>has_pool_or_spa</th>\n",
       "      <td>0</td>\n",
       "      <td>0.0</td>\n",
       "    </tr>\n",
       "    <tr>\n",
       "      <th>has_yardbuilding</th>\n",
       "      <td>0</td>\n",
       "      <td>0.0</td>\n",
       "    </tr>\n",
       "    <tr>\n",
       "      <th>multistory</th>\n",
       "      <td>0</td>\n",
       "      <td>0.0</td>\n",
       "    </tr>\n",
       "    <tr>\n",
       "      <th>abs_logerror</th>\n",
       "      <td>0</td>\n",
       "      <td>0.0</td>\n",
       "    </tr>\n",
       "    <tr>\n",
       "      <th>bed_bath_cnt</th>\n",
       "      <td>0</td>\n",
       "      <td>0.0</td>\n",
       "    </tr>\n",
       "    <tr>\n",
       "      <th>home_age</th>\n",
       "      <td>0</td>\n",
       "      <td>0.0</td>\n",
       "    </tr>\n",
       "  </tbody>\n",
       "</table>\n",
       "</div>"
      ],
      "text/plain": [
       "                        num_rows_missing  pct_rows_missing\n",
       "id                                     0               0.0\n",
       "parcel_id                              0               0.0\n",
       "ac_type_id                             0               0.0\n",
       "bathroom_cnt                           0               0.0\n",
       "bedroom_cnt                            0               0.0\n",
       "sum_bath_and_bed                       0               0.0\n",
       "square_feet                            0               0.0\n",
       "finishedsquarefeet12                   0               0.0\n",
       "fips_code                              0               0.0\n",
       "full_bath_cnt                          0               0.0\n",
       "heating_type_id                        0               0.0\n",
       "latitude                               0               0.0\n",
       "longitude                              0               0.0\n",
       "lot_sqr_ft                             0               0.0\n",
       "property_land_use_code                 0               0.0\n",
       "property_land_use_id                   0               0.0\n",
       "zipcode_id                             0               0.0\n",
       "building_value                         0               0.0\n",
       "total_value                            0               0.0\n",
       "land_value                             0               0.0\n",
       "tax_amount                             0               0.0\n",
       "census_block                           0               0.0\n",
       "logerror                               0               0.0\n",
       "transaction_date                       0               0.0\n",
       "has_basement                           0               0.0\n",
       "has_fireplace                          0               0.0\n",
       "has_deck                               0               0.0\n",
       "has_garage                             0               0.0\n",
       "has_pool_or_spa                        0               0.0\n",
       "has_yardbuilding                       0               0.0\n",
       "multistory                             0               0.0\n",
       "abs_logerror                           0               0.0\n",
       "bed_bath_cnt                           0               0.0\n",
       "home_age                               0               0.0"
      ]
     },
     "execution_count": 30,
     "metadata": {},
     "output_type": "execute_result"
    }
   ],
   "source": [
    "summarize.nulls_by_col(zillow)"
   ]
  },
  {
   "cell_type": "markdown",
   "metadata": {},
   "source": [
    "## III. Exploration"
   ]
  },
  {
   "cell_type": "markdown",
   "metadata": {},
   "source": [
    "Which features have a significant impact on error?"
   ]
  },
  {
   "cell_type": "markdown",
   "metadata": {},
   "source": [
    "- house age"
   ]
  },
  {
   "cell_type": "code",
   "execution_count": 31,
   "metadata": {},
   "outputs": [
    {
     "data": {
      "image/png": "[encoded data removed]",
      "text/plain": [
       "<Figure size 864x504 with 1 Axes>"
      ]
     },
     "metadata": {
      "needs_background": "light"
     },
     "output_type": "display_data"
    }
   ],
   "source": [
    "bins = [0,10,20,30,40,50,60,70,80,90,100, 1000]\n",
    "zillow['home_age_bins']=pd.cut(zillow.home_age, bins = bins)\n",
    "\n",
    "plt.figure(figsize= (12,7))\n",
    "sns.boxplot(y = 'abs_logerror', data = zillow ,x = 'home_age_bins', palette=['grey']*7+['red']*4)\n",
    "plt.ylim(0, .3)\n",
    "plt.xticks([0,1,2,3,4,5,6,7,8,9,10],[\"0 - 10\",\"10 - 20\",\"20 - 30\",\"30 - 40\",\"40 - 50\",\"50 - 60\",\"60 - 70\",\"70 - 80\",\"80 - 90\",\"90 - 100\",\">100\"])\n",
    "plt.title('Does Home Age Effect Error?')\n",
    "plt.xlabel('home age ranges')\n",
    "plt.show()"
   ]
  },
  {
   "cell_type": "markdown",
   "metadata": {},
   "source": [
    "- county"
   ]
  },
  {
   "cell_type": "code",
   "execution_count": 32,
   "metadata": {},
   "outputs": [
    {
     "data": {
      "text/plain": [
       "Text(0.5, 1.0, 'Is Error Different Between Counties?')"
      ]
     },
     "execution_count": 32,
     "metadata": {},
     "output_type": "execute_result"
    },
    {
     "data": {
      "image/png": "[encoded data removed]",
      "text/plain": [
       "<Figure size 1008x576 with 1 Axes>"
      ]
     },
     "metadata": {
      "needs_background": "light"
     },
     "output_type": "display_data"
    }
   ],
   "source": [
    "plt.figure(figsize=(14,8))\n",
    "sns.boxplot(x = 'fips_code', y = 'abs_logerror', data = zillow, palette=['red','grey','grey'])\n",
    "plt.xticks([0,1,2], ['Los Angeles', 'Orange','Ventura'])\n",
    "plt.ylim(0, .16)\n",
    "plt.title('Is Error Different Between Counties?')"
   ]
  },
  {
   "cell_type": "markdown",
   "metadata": {},
   "source": [
    "- Room Count"
   ]
  },
  {
   "cell_type": "code",
   "execution_count": 67,
   "metadata": {},
   "outputs": [
    {
     "data": {
      "image/png": "[encoded data removed]",
      "text/plain": [
       "<Figure size 864x504 with 1 Axes>"
      ]
     },
     "metadata": {
      "needs_background": "light"
     },
     "output_type": "display_data"
    },
    {
     "data": {
      "text/plain": [
       "1.0     12329\n",
       "1.5      1403\n",
       "2.0     30114\n",
       "2.5      6560\n",
       "3.0     16518\n",
       "3.5      1021\n",
       "4.0      2574\n",
       "4.5       685\n",
       "5.0       895\n",
       "5.5       221\n",
       "6.0       340\n",
       "6.5        46\n",
       "7.0        92\n",
       "7.5        16\n",
       "8.0        54\n",
       "8.5         2\n",
       "9.0        12\n",
       "10.0        5\n",
       "11.0        3\n",
       "13.0        1\n",
       "Name: sum_bath_and_bed, dtype: int64"
      ]
     },
     "execution_count": 67,
     "metadata": {},
     "output_type": "execute_result"
    }
   ],
   "source": [
    "plt.figure(figsize= (12,7))\n",
    "sns.boxplot(y = 'abs_logerror', data = zillow[zillow.sum_bath_and_bed <= 10] ,x = 'sum_bath_and_bed', palette=['grey']+['red']+['grey']*5+['red']*2)\n",
    "plt.ylim(0, .2)\n",
    "plt.show()\n",
    "zillow.sum_bath_and_bed.value_counts().sort_index()"
   ]
  },
  {
   "cell_type": "markdown",
   "metadata": {},
   "source": [
    "Values > 10 have too few rows to make a strong implication"
   ]
  },
  {
   "cell_type": "code",
   "execution_count": null,
   "metadata": {},
   "outputs": [],
   "source": []
  },
  {
   "cell_type": "code",
   "execution_count": null,
   "metadata": {},
   "outputs": [],
   "source": []
  },
  {
   "cell_type": "markdown",
   "metadata": {},
   "source": [
    "Removing the geographic fields, the transaction_date, id numbers, and full_bath_cnt."
   ]
  },
  {
   "cell_type": "code",
   "execution_count": 34,
   "metadata": {},
   "outputs": [],
   "source": [
    "lat_long = zillow[['latitude','longitude']]\n",
    "fips_code = zillow['fips_code']\n",
    "log_error = zillow['logerror']"
   ]
  },
  {
   "cell_type": "code",
   "execution_count": 35,
   "metadata": {},
   "outputs": [],
   "source": [
    "zillow2 = zillow.drop(['transaction_date',\n",
    "              'property_land_use_code', \n",
    "              'property_land_use_id', \n",
    "              'id', \n",
    "              'parcel_id',\n",
    "              'zipcode_id',\n",
    "              'fips_code',\n",
    "              'census_block',\n",
    "              'finishedsquarefeet12',\n",
    "              'full_bath_cnt',\n",
    "              'latitude',\n",
    "              'longitude',\n",
    "              'logerror',\n",
    "              'home_age_bins'], axis=1)"
   ]
  },
  {
   "cell_type": "code",
   "execution_count": 36,
   "metadata": {},
   "outputs": [
    {
     "name": "stdout",
     "output_type": "stream",
     "text": [
      "<class 'pandas.core.frame.DataFrame'>\n",
      "Int64Index: 72891 entries, 0 to 73423\n",
      "Data columns (total 21 columns):\n",
      "ac_type_id          72891 non-null float64\n",
      "bathroom_cnt        72891 non-null float64\n",
      "bedroom_cnt         72891 non-null float64\n",
      "sum_bath_and_bed    72891 non-null float64\n",
      "square_feet         72891 non-null float64\n",
      "heating_type_id     72891 non-null float64\n",
      "lot_sqr_ft          72891 non-null float64\n",
      "building_value      72891 non-null float64\n",
      "total_value         72891 non-null float64\n",
      "land_value          72891 non-null float64\n",
      "tax_amount          72891 non-null float64\n",
      "has_basement        72891 non-null bool\n",
      "has_fireplace       72891 non-null bool\n",
      "has_deck            72891 non-null bool\n",
      "has_garage          72891 non-null bool\n",
      "has_pool_or_spa     72891 non-null bool\n",
      "has_yardbuilding    72891 non-null bool\n",
      "multistory          72891 non-null bool\n",
      "abs_logerror        72891 non-null float64\n",
      "bed_bath_cnt        72891 non-null float64\n",
      "home_age            72891 non-null float64\n",
      "dtypes: bool(7), float64(14)\n",
      "memory usage: 11.3 MB\n"
     ]
    }
   ],
   "source": [
    "zillow2.info()"
   ]
  },
  {
   "cell_type": "markdown",
   "metadata": {},
   "source": [
    "Applying Standard Scaling to the features"
   ]
  },
  {
   "cell_type": "code",
   "execution_count": 37,
   "metadata": {},
   "outputs": [],
   "source": [
    "df_standard, df2, std_object = cluster.standardize_train_test(zillow2, zillow2)\n",
    "#The std_object will be used later to un-scale the data for human observation"
   ]
  },
  {
   "cell_type": "code",
   "execution_count": 38,
   "metadata": {},
   "outputs": [
    {
     "name": "stdout",
     "output_type": "stream",
     "text": [
      "<class 'pandas.core.frame.DataFrame'>\n",
      "Int64Index: 72891 entries, 0 to 73423\n",
      "Data columns (total 21 columns):\n",
      "ac_type_id          72891 non-null float64\n",
      "bathroom_cnt        72891 non-null float64\n",
      "bedroom_cnt         72891 non-null float64\n",
      "sum_bath_and_bed    72891 non-null float64\n",
      "square_feet         72891 non-null float64\n",
      "heating_type_id     72891 non-null float64\n",
      "lot_sqr_ft          72891 non-null float64\n",
      "building_value      72891 non-null float64\n",
      "total_value         72891 non-null float64\n",
      "land_value          72891 non-null float64\n",
      "tax_amount          72891 non-null float64\n",
      "has_basement        72891 non-null float64\n",
      "has_fireplace       72891 non-null float64\n",
      "has_deck            72891 non-null float64\n",
      "has_garage          72891 non-null float64\n",
      "has_pool_or_spa     72891 non-null float64\n",
      "has_yardbuilding    72891 non-null float64\n",
      "multistory          72891 non-null float64\n",
      "abs_logerror        72891 non-null float64\n",
      "bed_bath_cnt        72891 non-null float64\n",
      "home_age            72891 non-null float64\n",
      "dtypes: float64(21)\n",
      "memory usage: 12.2 MB\n"
     ]
    }
   ],
   "source": [
    "df_standard.info()"
   ]
  },
  {
   "cell_type": "code",
   "execution_count": null,
   "metadata": {},
   "outputs": [],
   "source": []
  },
  {
   "cell_type": "markdown",
   "metadata": {},
   "source": [
    "### Evaluating the inertia values for up to 9 clusters."
   ]
  },
  {
   "cell_type": "code",
   "execution_count": 39,
   "metadata": {},
   "outputs": [
    {
     "name": "stdout",
     "output_type": "stream",
     "text": [
      "1 : 3.712923379617084\n",
      "2 : 3.3638004805728676\n",
      "3 : 3.2197108744709815\n",
      "4 : 3.0426909226850127\n",
      "5 : 3.018925287130436\n",
      "6 : 2.9193106465910774\n",
      "7 : 2.857006522243782\n",
      "8 : 2.764924119661506\n",
      "9 : 2.662690784563363\n"
     ]
    }
   ],
   "source": [
    "cluster.list_inertia_scores(df_standard)"
   ]
  },
  {
   "cell_type": "markdown",
   "metadata": {},
   "source": [
    "It's a toss-up between 2 or 3 clusters\n",
    "\n",
    "## Clustering\n",
    "#### 2 Clusters"
   ]
  },
  {
   "cell_type": "code",
   "execution_count": 40,
   "metadata": {},
   "outputs": [],
   "source": [
    "two_cluster_df = cluster.make_clusters(df_standard, n_clusters=2)"
   ]
  },
  {
   "cell_type": "markdown",
   "metadata": {},
   "source": [
    "Looks like a lopsided clustering. 75/25 split."
   ]
  },
  {
   "cell_type": "code",
   "execution_count": 41,
   "metadata": {},
   "outputs": [
    {
     "data": {
      "text/plain": [
       "1    53630\n",
       "0    19261\n",
       "Name: cluster_labels, dtype: int64"
      ]
     },
     "execution_count": 41,
     "metadata": {},
     "output_type": "execute_result"
    }
   ],
   "source": [
    "two_cluster_df['cluster_labels'].value_counts()"
   ]
  },
  {
   "cell_type": "code",
   "execution_count": 42,
   "metadata": {},
   "outputs": [
    {
     "data": {
      "text/plain": [
       "0.7498868173025477"
      ]
     },
     "execution_count": 42,
     "metadata": {},
     "output_type": "execute_result"
    }
   ],
   "source": [
    "54660/72891"
   ]
  },
  {
   "cell_type": "code",
   "execution_count": 43,
   "metadata": {},
   "outputs": [
    {
     "data": {
      "image/png": "[encoded data removed]",
      "text/plain": [
       "<Figure size 432x288 with 1 Axes>"
      ]
     },
     "metadata": {
      "needs_background": "light"
     },
     "output_type": "display_data"
    }
   ],
   "source": [
    "cluster.show_clusters_on_map(two_cluster_df)"
   ]
  },
  {
   "cell_type": "markdown",
   "metadata": {},
   "source": [
    "### Cluster #1 kinda predicts LA County\n",
    "\n",
    "The Lat-Long and the Cluser Labels will be dropped to match the scaling object created when the feature matrix was scaled"
   ]
  },
  {
   "cell_type": "code",
   "execution_count": 44,
   "metadata": {},
   "outputs": [],
   "source": [
    "cluster_labels = two_cluster_df.cluster_labels\n",
    "two_cluster_df.drop('cluster_labels',axis=1,inplace=True)\n",
    "two_cluster_df.drop(['latitude','longitude'],axis=1,inplace=True)"
   ]
  },
  {
   "cell_type": "markdown",
   "metadata": {},
   "source": [
    "The dataframe is unscaled for human readibility when comparing the two clusters"
   ]
  },
  {
   "cell_type": "code",
   "execution_count": 45,
   "metadata": {},
   "outputs": [],
   "source": [
    "scaler, unscaled_df = cluster.my_inv_transform(std_object, two_cluster_df)"
   ]
  },
  {
   "cell_type": "markdown",
   "metadata": {},
   "source": [
    "Labels are re-attached"
   ]
  },
  {
   "cell_type": "code",
   "execution_count": 46,
   "metadata": {},
   "outputs": [],
   "source": [
    "unscaled_df['cluster_labels'] = cluster_labels"
   ]
  },
  {
   "cell_type": "code",
   "execution_count": 47,
   "metadata": {},
   "outputs": [],
   "source": [
    "unscaled_df['logerror'] = log_error"
   ]
  },
  {
   "cell_type": "markdown",
   "metadata": {},
   "source": [
    "### EXPLORE THOSE CLUSTERS"
   ]
  },
  {
   "cell_type": "markdown",
   "metadata": {},
   "source": [
    "Breakdown of mean values for all fields of each cluster."
   ]
  },
  {
   "cell_type": "code",
   "execution_count": 48,
   "metadata": {},
   "outputs": [
    {
     "data": {
      "text/html": [
       "<div>\n",
       "<style scoped>\n",
       "    .dataframe tbody tr th:only-of-type {\n",
       "        vertical-align: middle;\n",
       "    }\n",
       "\n",
       "    .dataframe tbody tr th {\n",
       "        vertical-align: top;\n",
       "    }\n",
       "\n",
       "    .dataframe thead th {\n",
       "        text-align: right;\n",
       "    }\n",
       "</style>\n",
       "<table border=\"1\" class=\"dataframe\">\n",
       "  <thead>\n",
       "    <tr style=\"text-align: right;\">\n",
       "      <th></th>\n",
       "      <th>ac_type_id</th>\n",
       "      <th>bathroom_cnt</th>\n",
       "      <th>bedroom_cnt</th>\n",
       "      <th>sum_bath_and_bed</th>\n",
       "      <th>square_feet</th>\n",
       "      <th>heating_type_id</th>\n",
       "      <th>lot_sqr_ft</th>\n",
       "      <th>building_value</th>\n",
       "      <th>total_value</th>\n",
       "      <th>land_value</th>\n",
       "      <th>...</th>\n",
       "      <th>has_fireplace</th>\n",
       "      <th>has_deck</th>\n",
       "      <th>has_garage</th>\n",
       "      <th>has_pool_or_spa</th>\n",
       "      <th>has_yardbuilding</th>\n",
       "      <th>multistory</th>\n",
       "      <th>abs_logerror</th>\n",
       "      <th>bed_bath_cnt</th>\n",
       "      <th>home_age</th>\n",
       "      <th>logerror</th>\n",
       "    </tr>\n",
       "    <tr>\n",
       "      <th>cluster_labels</th>\n",
       "      <th></th>\n",
       "      <th></th>\n",
       "      <th></th>\n",
       "      <th></th>\n",
       "      <th></th>\n",
       "      <th></th>\n",
       "      <th></th>\n",
       "      <th></th>\n",
       "      <th></th>\n",
       "      <th></th>\n",
       "      <th></th>\n",
       "      <th></th>\n",
       "      <th></th>\n",
       "      <th></th>\n",
       "      <th></th>\n",
       "      <th></th>\n",
       "      <th></th>\n",
       "      <th></th>\n",
       "      <th></th>\n",
       "      <th></th>\n",
       "      <th></th>\n",
       "    </tr>\n",
       "  </thead>\n",
       "  <tbody>\n",
       "    <tr>\n",
       "      <th>0</th>\n",
       "      <td>1.661025</td>\n",
       "      <td>3.300452</td>\n",
       "      <td>4.012772</td>\n",
       "      <td>3.300452</td>\n",
       "      <td>2838.625513</td>\n",
       "      <td>2.163076</td>\n",
       "      <td>16822.152329</td>\n",
       "      <td>370982.010799</td>\n",
       "      <td>928000.037641</td>\n",
       "      <td>557018.026842</td>\n",
       "      <td>...</td>\n",
       "      <td>0.244068</td>\n",
       "      <td>0.022065</td>\n",
       "      <td>0.483516</td>\n",
       "      <td>0.390894</td>\n",
       "      <td>0.063808</td>\n",
       "      <td>0.257515</td>\n",
       "      <td>0.068858</td>\n",
       "      <td>7.314989</td>\n",
       "      <td>34.580188</td>\n",
       "      <td>0.024643</td>\n",
       "    </tr>\n",
       "    <tr>\n",
       "      <th>1</th>\n",
       "      <td>1.134365</td>\n",
       "      <td>1.928846</td>\n",
       "      <td>2.676226</td>\n",
       "      <td>1.928846</td>\n",
       "      <td>1377.044229</td>\n",
       "      <td>3.616054</td>\n",
       "      <td>32433.060526</td>\n",
       "      <td>124265.418628</td>\n",
       "      <td>329881.640910</td>\n",
       "      <td>205616.222282</td>\n",
       "      <td>...</td>\n",
       "      <td>0.065187</td>\n",
       "      <td>0.003300</td>\n",
       "      <td>0.156256</td>\n",
       "      <td>0.165206</td>\n",
       "      <td>0.020865</td>\n",
       "      <td>0.037050</td>\n",
       "      <td>0.065146</td>\n",
       "      <td>4.611169</td>\n",
       "      <td>50.313873</td>\n",
       "      <td>0.013725</td>\n",
       "    </tr>\n",
       "  </tbody>\n",
       "</table>\n",
       "<p>2 rows × 22 columns</p>\n",
       "</div>"
      ],
      "text/plain": [
       "                ac_type_id  bathroom_cnt  bedroom_cnt  sum_bath_and_bed  \\\n",
       "cluster_labels                                                            \n",
       "0                 1.661025      3.300452     4.012772          3.300452   \n",
       "1                 1.134365      1.928846     2.676226          1.928846   \n",
       "\n",
       "                square_feet  heating_type_id    lot_sqr_ft  building_value  \\\n",
       "cluster_labels                                                               \n",
       "0               2838.625513         2.163076  16822.152329   370982.010799   \n",
       "1               1377.044229         3.616054  32433.060526   124265.418628   \n",
       "\n",
       "                  total_value     land_value  ...  has_fireplace  has_deck  \\\n",
       "cluster_labels                                ...                            \n",
       "0               928000.037641  557018.026842  ...       0.244068  0.022065   \n",
       "1               329881.640910  205616.222282  ...       0.065187  0.003300   \n",
       "\n",
       "                has_garage  has_pool_or_spa  has_yardbuilding  multistory  \\\n",
       "cluster_labels                                                              \n",
       "0                 0.483516         0.390894          0.063808    0.257515   \n",
       "1                 0.156256         0.165206          0.020865    0.037050   \n",
       "\n",
       "                abs_logerror  bed_bath_cnt   home_age  logerror  \n",
       "cluster_labels                                                   \n",
       "0                   0.068858      7.314989  34.580188  0.024643  \n",
       "1                   0.065146      4.611169  50.313873  0.013725  \n",
       "\n",
       "[2 rows x 22 columns]"
      ]
     },
     "execution_count": 48,
     "metadata": {},
     "output_type": "execute_result"
    }
   ],
   "source": [
    "unscaled_df.groupby('cluster_labels').mean()"
   ]
  },
  {
   "cell_type": "markdown",
   "metadata": {},
   "source": [
    "The logerror for all observations"
   ]
  },
  {
   "cell_type": "code",
   "execution_count": 49,
   "metadata": {},
   "outputs": [
    {
     "data": {
      "text/plain": [
       "0.016609865210700406"
      ]
     },
     "execution_count": 49,
     "metadata": {},
     "output_type": "execute_result"
    }
   ],
   "source": [
    "unscaled_df.logerror.mean()"
   ]
  },
  {
   "cell_type": "markdown",
   "metadata": {},
   "source": [
    "The logerror for each cluster"
   ]
  },
  {
   "cell_type": "code",
   "execution_count": 50,
   "metadata": {},
   "outputs": [
    {
     "data": {
      "text/plain": [
       "cluster_labels\n",
       "0    0.024643\n",
       "1    0.013725\n",
       "Name: logerror, dtype: float64"
      ]
     },
     "execution_count": 50,
     "metadata": {},
     "output_type": "execute_result"
    }
   ],
   "source": [
    "unscaled_df.groupby('cluster_labels').logerror.mean()"
   ]
  },
  {
   "cell_type": "markdown",
   "metadata": {},
   "source": [
    "Re-attaching the fips_code to see how the clusters fit in the city codes."
   ]
  },
  {
   "cell_type": "code",
   "execution_count": 51,
   "metadata": {},
   "outputs": [],
   "source": [
    "unscaled_df['fips_code'] = fips_code"
   ]
  },
  {
   "cell_type": "code",
   "execution_count": 52,
   "metadata": {},
   "outputs": [
    {
     "data": {
      "text/plain": [
       "6037.0    46910\n",
       "6059.0    19951\n",
       "6111.0     6030\n",
       "Name: fips_code, dtype: int64"
      ]
     },
     "execution_count": 52,
     "metadata": {},
     "output_type": "execute_result"
    }
   ],
   "source": [
    "fips_code.value_counts()"
   ]
  },
  {
   "cell_type": "code",
   "execution_count": 53,
   "metadata": {},
   "outputs": [
    {
     "data": {
      "image/png": "[encoded data removed]",
      "text/plain": [
       "<Figure size 432x288 with 1 Axes>"
      ]
     },
     "metadata": {
      "needs_background": "light"
     },
     "output_type": "display_data"
    }
   ],
   "source": [
    "cluster.show_clusters_on_map(unscaled_df, cluster_label='fips_code')"
   ]
  },
  {
   "cell_type": "code",
   "execution_count": 54,
   "metadata": {},
   "outputs": [
    {
     "data": {
      "image/png": "[encoded data removed]",
      "text/plain": [
       "<Figure size 432x288 with 1 Axes>"
      ]
     },
     "metadata": {
      "needs_background": "light"
     },
     "output_type": "display_data"
    }
   ],
   "source": [
    "cluster.show_clusters_on_map(unscaled_df, cluster_label='cluster_labels')"
   ]
  },
  {
   "cell_type": "code",
   "execution_count": 55,
   "metadata": {},
   "outputs": [],
   "source": [
    "big_cluster = unscaled_df[unscaled_df.cluster_labels == 0]"
   ]
  },
  {
   "cell_type": "code",
   "execution_count": 56,
   "metadata": {},
   "outputs": [],
   "source": [
    "lil_cluster = unscaled_df[unscaled_df.cluster_labels == 1]"
   ]
  },
  {
   "cell_type": "code",
   "execution_count": 57,
   "metadata": {},
   "outputs": [
    {
     "data": {
      "text/plain": [
       "Ttest_1sampResult(statistic=6.049660064894307, pvalue=1.4783294470696976e-09)"
      ]
     },
     "execution_count": 57,
     "metadata": {},
     "output_type": "execute_result"
    }
   ],
   "source": [
    "stats.ttest_1samp(big_cluster.logerror, unscaled_df.logerror.mean())"
   ]
  },
  {
   "cell_type": "code",
   "execution_count": 58,
   "metadata": {},
   "outputs": [
    {
     "data": {
      "text/plain": [
       "Ttest_1sampResult(statistic=-4.328165597705397, pvalue=1.5062832937196504e-05)"
      ]
     },
     "execution_count": 58,
     "metadata": {},
     "output_type": "execute_result"
    }
   ],
   "source": [
    "stats.ttest_1samp(lil_cluster.logerror, unscaled_df.logerror.mean())"
   ]
  },
  {
   "cell_type": "markdown",
   "metadata": {},
   "source": [
    "## UNSCALED DF is ZILLOW, but with Cluster Labels (0,1)"
   ]
  },
  {
   "cell_type": "code",
   "execution_count": 59,
   "metadata": {},
   "outputs": [
    {
     "ename": "FileNotFoundError",
     "evalue": "[Errno 2] No such file or directory: '/Users/fredricklambuth/Projects/Zillow-logerror/labeled_data.csv'",
     "output_type": "error",
     "traceback": [
      "\u001b[0;31m-------------------------------------------------------------\u001b[0m",
      "\u001b[0;31mFileNotFoundError\u001b[0m           Traceback (most recent call last)",
      "\u001b[0;32m<ipython-input-59-fdb4dcdf2f51>\u001b[0m in \u001b[0;36m<module>\u001b[0;34m\u001b[0m\n\u001b[0;32m----> 1\u001b[0;31m \u001b[0mexport_csv\u001b[0m \u001b[0;34m=\u001b[0m \u001b[0munscaled_df\u001b[0m\u001b[0;34m.\u001b[0m\u001b[0mto_csv\u001b[0m \u001b[0;34m(\u001b[0m\u001b[0;34mr'/Users/fredricklambuth/Projects/Zillow-logerror/labeled_data.csv'\u001b[0m\u001b[0;34m,\u001b[0m \u001b[0mindex\u001b[0m \u001b[0;34m=\u001b[0m \u001b[0;32mNone\u001b[0m\u001b[0;34m,\u001b[0m \u001b[0mheader\u001b[0m\u001b[0;34m=\u001b[0m\u001b[0;32mTrue\u001b[0m\u001b[0;34m)\u001b[0m\u001b[0;34m\u001b[0m\u001b[0m\n\u001b[0m",
      "\u001b[0;32m/usr/local/anaconda3/lib/python3.7/site-packages/pandas/core/generic.py\u001b[0m in \u001b[0;36mto_csv\u001b[0;34m(self, path_or_buf, sep, na_rep, float_format, columns, header, index, index_label, mode, encoding, compression, quoting, quotechar, line_terminator, chunksize, tupleize_cols, date_format, doublequote, escapechar, decimal)\u001b[0m\n\u001b[1;32m   3018\u001b[0m                                  \u001b[0mdoublequote\u001b[0m\u001b[0;34m=\u001b[0m\u001b[0mdoublequote\u001b[0m\u001b[0;34m,\u001b[0m\u001b[0;34m\u001b[0m\u001b[0m\n\u001b[1;32m   3019\u001b[0m                                  escapechar=escapechar, decimal=decimal)\n\u001b[0;32m-> 3020\u001b[0;31m         \u001b[0mformatter\u001b[0m\u001b[0;34m.\u001b[0m\u001b[0msave\u001b[0m\u001b[0;34m(\u001b[0m\u001b[0;34m)\u001b[0m\u001b[0;34m\u001b[0m\u001b[0m\n\u001b[0m\u001b[1;32m   3021\u001b[0m \u001b[0;34m\u001b[0m\u001b[0m\n\u001b[1;32m   3022\u001b[0m         \u001b[0;32mif\u001b[0m \u001b[0mpath_or_buf\u001b[0m \u001b[0;32mis\u001b[0m \u001b[0;32mNone\u001b[0m\u001b[0;34m:\u001b[0m\u001b[0;34m\u001b[0m\u001b[0m\n",
      "\u001b[0;32m/usr/local/anaconda3/lib/python3.7/site-packages/pandas/io/formats/csvs.py\u001b[0m in \u001b[0;36msave\u001b[0;34m(self)\u001b[0m\n\u001b[1;32m    155\u001b[0m             f, handles = _get_handle(self.path_or_buf, self.mode,\n\u001b[1;32m    156\u001b[0m                                      \u001b[0mencoding\u001b[0m\u001b[0;34m=\u001b[0m\u001b[0mself\u001b[0m\u001b[0;34m.\u001b[0m\u001b[0mencoding\u001b[0m\u001b[0;34m,\u001b[0m\u001b[0;34m\u001b[0m\u001b[0m\n\u001b[0;32m--> 157\u001b[0;31m                                      compression=self.compression)\n\u001b[0m\u001b[1;32m    158\u001b[0m             \u001b[0mclose\u001b[0m \u001b[0;34m=\u001b[0m \u001b[0;32mTrue\u001b[0m\u001b[0;34m\u001b[0m\u001b[0m\n\u001b[1;32m    159\u001b[0m \u001b[0;34m\u001b[0m\u001b[0m\n",
      "\u001b[0;32m/usr/local/anaconda3/lib/python3.7/site-packages/pandas/io/common.py\u001b[0m in \u001b[0;36m_get_handle\u001b[0;34m(path_or_buf, mode, encoding, compression, memory_map, is_text)\u001b[0m\n\u001b[1;32m    422\u001b[0m         \u001b[0;32melif\u001b[0m \u001b[0mencoding\u001b[0m\u001b[0;34m:\u001b[0m\u001b[0;34m\u001b[0m\u001b[0m\n\u001b[1;32m    423\u001b[0m             \u001b[0;31m# Python 3 and encoding\u001b[0m\u001b[0;34m\u001b[0m\u001b[0;34m\u001b[0m\u001b[0m\n\u001b[0;32m--> 424\u001b[0;31m             \u001b[0mf\u001b[0m \u001b[0;34m=\u001b[0m \u001b[0mopen\u001b[0m\u001b[0;34m(\u001b[0m\u001b[0mpath_or_buf\u001b[0m\u001b[0;34m,\u001b[0m \u001b[0mmode\u001b[0m\u001b[0;34m,\u001b[0m \u001b[0mencoding\u001b[0m\u001b[0;34m=\u001b[0m\u001b[0mencoding\u001b[0m\u001b[0;34m,\u001b[0m \u001b[0mnewline\u001b[0m\u001b[0;34m=\u001b[0m\u001b[0;34m\"\"\u001b[0m\u001b[0;34m)\u001b[0m\u001b[0;34m\u001b[0m\u001b[0m\n\u001b[0m\u001b[1;32m    425\u001b[0m         \u001b[0;32melif\u001b[0m \u001b[0mis_text\u001b[0m\u001b[0;34m:\u001b[0m\u001b[0;34m\u001b[0m\u001b[0m\n\u001b[1;32m    426\u001b[0m             \u001b[0;31m# Python 3 and no explicit encoding\u001b[0m\u001b[0;34m\u001b[0m\u001b[0;34m\u001b[0m\u001b[0m\n",
      "\u001b[0;31mFileNotFoundError\u001b[0m: [Errno 2] No such file or directory: '/Users/fredricklambuth/Projects/Zillow-logerror/labeled_data.csv'"
     ]
    }
   ],
   "source": [
    "export_csv = unscaled_df.to_csv (r'/Users/fredricklambuth/Projects/Zillow-logerror/labeled_data.csv', index = None, header=True)"
   ]
  },
  {
   "cell_type": "markdown",
   "metadata": {},
   "source": [
    "## IV. Feature Engineering"
   ]
  },
  {
   "cell_type": "markdown",
   "metadata": {},
   "source": [
    "## V. Modeling"
   ]
  },
  {
   "cell_type": "code",
   "execution_count": null,
   "metadata": {},
   "outputs": [],
   "source": []
  }
 ],
 "metadata": {
  "kernelspec": {
   "display_name": "Python 3",
   "language": "python",
   "name": "python3"
  },
  "language_info": {
   "codemirror_mode": {
    "name": "ipython",
    "version": 3
   },
   "file_extension": ".py",
   "mimetype": "text/x-python",
   "name": "python",
   "nbconvert_exporter": "python",
   "pygments_lexer": "ipython3",
   "version": "3.7.0"
  }
 },
 "nbformat": 4,
 "nbformat_minor": 2
}
