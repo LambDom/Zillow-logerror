{
 "cells": [
  {
   "cell_type": "markdown",
   "metadata": {},
   "source": [
    "# Zillow Logerror Estimation Model\n",
    "\n",
    "## Project Goals\n",
    "1. create a model that can predict error in Zestimated values\n",
    "\n",
    "2. from that model, identify key features driving logerror\n",
    "\n",
    "3. clearly communicate finding to classmates\n",
    "\n",
    "## Project Requirements\n",
    "1. utilize clustering algorithms at some point in the pipeline\n",
    "\n",
    "2. utilize statistical testing to identify key features\n",
    "\n",
    "3. provide helpful visulatizations explaining exploration process\n",
    "\n",
    "4. use scaling methods on data and document why they we're used\n",
    "\n",
    "5. impute missing values and document\n",
    "\n",
    "6. encode cateorical data\n",
    "\n",
    "7. feature engineering and document rational behind it\n"
   ]
  },
  {
   "cell_type": "markdown",
   "metadata": {},
   "source": [
    "### 0. Imports"
   ]
  },
  {
   "cell_type": "code",
   "execution_count": 3,
   "metadata": {},
   "outputs": [],
   "source": [
    "#ignore warnings\n",
    "import warnings\n",
    "warnings.filterwarnings(\"ignore\")\n",
    "\n",
    "#python libraries used\n",
    "import pandas as pd\n",
    "import numpy as np\n",
    "import seaborn as sns\n",
    "import matplotlib.pyplot as plt\n",
    "\n",
    "#project specific functions\n",
    "import acquire\n",
    "import prepare\n",
    "import explore\n",
    "import modeling\n",
    "import cluster\n",
    "from env import host,password,user\n",
    "\n"
   ]
  },
  {
   "cell_type": "markdown",
   "metadata": {},
   "source": [
    "### I. Acquisition"
   ]
  },
  {
   "cell_type": "markdown",
   "metadata": {},
   "source": [
    "Get data on homes sold in 2017 with recorded Latitude and Longitude"
   ]
  },
  {
   "cell_type": "code",
   "execution_count": null,
   "metadata": {},
   "outputs": [],
   "source": [
    "#mysql query\n",
    "query = '''\n",
    "    SELECT prop.*, pred.logerror, pred.transactiondate\n",
    "    FROM predictions_2017 AS pred\n",
    "    LEFT JOIN properties_2017 AS prop  USING(parcelid)\n",
    "    WHERE (bedroomcnt > 0 AND bathroomcnt > 0 AND calculatedfinishedsquarefeet > 500 AND latitude IS NOT NULL AND longitude IS NOT NULL) \n",
    "    AND (unitcnt = 1 OR unitcnt IS NULL)\n",
    "    ;\n",
    "    '''\n",
    "db_name = 'zillow'\n",
    "#get data from database\n",
    "zillow = pd.read_sql(query, f\"mysql+pymysql://{user}:{password}@{host}/{db_name}\")"
   ]
  },
  {
   "cell_type": "markdown",
   "metadata": {},
   "source": [
    "## II. Exploration"
   ]
  },
  {
   "cell_type": "code",
   "execution_count": null,
   "metadata": {},
   "outputs": [],
   "source": []
  }
 ],
 "metadata": {
  "kernelspec": {
   "display_name": "Python 3",
   "language": "python",
   "name": "python3"
  },
  "language_info": {
   "codemirror_mode": {
    "name": "ipython",
    "version": 3
   },
   "file_extension": ".py",
   "mimetype": "text/x-python",
   "name": "python",
   "nbconvert_exporter": "python",
   "pygments_lexer": "ipython3",
   "version": "3.7.0"
  }
 },
 "nbformat": 4,
 "nbformat_minor": 2
}
