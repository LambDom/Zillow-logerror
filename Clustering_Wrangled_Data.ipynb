{
 "cells": [
  {
   "cell_type": "code",
   "execution_count": 1,
   "metadata": {},
   "outputs": [],
   "source": [
    "import seaborn as sns\n",
    "import numpy as np\n",
    "import matplotlib.pyplot as plt"
   ]
  },
  {
   "cell_type": "code",
   "execution_count": 2,
   "metadata": {},
   "outputs": [],
   "source": [
    "import cluster\n",
    "import acquire\n",
    "import prepare\n",
    "import summarize"
   ]
  },
  {
   "cell_type": "code",
   "execution_count": 7,
   "metadata": {},
   "outputs": [],
   "source": [
    "df = acquire.wrangle_zillow()"
   ]
  },
  {
   "cell_type": "code",
   "execution_count": 8,
   "metadata": {},
   "outputs": [
    {
     "name": "stdout",
     "output_type": "stream",
     "text": [
      "<class 'pandas.core.frame.DataFrame'>\n",
      "Int64Index: 73087 entries, 0 to 73423\n",
      "Data columns (total 33 columns):\n",
      "id                        73087 non-null int64\n",
      "parcel_id                 73087 non-null int64\n",
      "ac_type_id                73087 non-null float64\n",
      "bathroom_cnt              73087 non-null float64\n",
      "bedroom_cnt               73087 non-null float64\n",
      "sum_bath_and_bed          73087 non-null float64\n",
      "square_feet               73087 non-null float64\n",
      "fips_code                 73087 non-null float64\n",
      "full_bath_cnt             73087 non-null float64\n",
      "heating_type_id           73087 non-null float64\n",
      "latitude                  73087 non-null float64\n",
      "longitude                 73087 non-null float64\n",
      "lot_sqr_ft                73087 non-null float64\n",
      "property_land_use_code    73087 non-null object\n",
      "property_land_use_id      73087 non-null float64\n",
      "zipcode_id                73087 non-null float64\n",
      "room_cnt                  73087 non-null float64\n",
      "building_value            73087 non-null float64\n",
      "total_value               73087 non-null float64\n",
      "land_value                73087 non-null float64\n",
      "tax_amount                73087 non-null float64\n",
      "census_block              73087 non-null float64\n",
      "logerror                  73087 non-null float64\n",
      "transaction_date          73087 non-null object\n",
      "has_basement              73087 non-null bool\n",
      "has_fireplace             73087 non-null bool\n",
      "has_deck                  73087 non-null bool\n",
      "has_garage                73087 non-null bool\n",
      "has_pool_or_spa           73087 non-null bool\n",
      "has_yardbuilding          73087 non-null bool\n",
      "multistory                73087 non-null bool\n",
      "home_age                  73087 non-null float64\n",
      "abs_logerror              73087 non-null float64\n",
      "dtypes: bool(7), float64(22), int64(2), object(2)\n",
      "memory usage: 15.5+ MB\n"
     ]
    }
   ],
   "source": [
    "df.info()"
   ]
  },
  {
   "cell_type": "markdown",
   "metadata": {},
   "source": [
    "    Getting rid of some ID columns, and the date one. LAT-LONG stays because the split_data function cuts it off."
   ]
  },
  {
   "cell_type": "code",
   "execution_count": 9,
   "metadata": {},
   "outputs": [],
   "source": [
    "df = df.drop(['transaction_date','property_land_use_code', 'id', 'parcel_id'], axis=1)"
   ]
  },
  {
   "cell_type": "code",
   "execution_count": null,
   "metadata": {},
   "outputs": [],
   "source": [
    "train, test = cluster.split_data(df)"
   ]
  },
  {
   "cell_type": "code",
   "execution_count": null,
   "metadata": {},
   "outputs": [],
   "source": [
    "train.shape"
   ]
  },
  {
   "cell_type": "code",
   "execution_count": null,
   "metadata": {},
   "outputs": [],
   "source": [
    "train.info()"
   ]
  },
  {
   "cell_type": "markdown",
   "metadata": {},
   "source": [
    "# FOR THE MOMENT. NO TEST TRAIN SPLIT FOR MAKING CLUSTERS. THATS FOR LATER"
   ]
  },
  {
   "cell_type": "code",
   "execution_count": 10,
   "metadata": {},
   "outputs": [],
   "source": [
    "df_standard, df2, std_object = cluster.standardize_train_test(df, df)"
   ]
  },
  {
   "cell_type": "code",
   "execution_count": 11,
   "metadata": {},
   "outputs": [
    {
     "name": "stdout",
     "output_type": "stream",
     "text": [
      "<class 'pandas.core.frame.DataFrame'>\n",
      "Int64Index: 73087 entries, 0 to 73423\n",
      "Data columns (total 29 columns):\n",
      "ac_type_id              73087 non-null float64\n",
      "bathroom_cnt            73087 non-null float64\n",
      "bedroom_cnt             73087 non-null float64\n",
      "sum_bath_and_bed        73087 non-null float64\n",
      "square_feet             73087 non-null float64\n",
      "fips_code               73087 non-null float64\n",
      "full_bath_cnt           73087 non-null float64\n",
      "heating_type_id         73087 non-null float64\n",
      "latitude                73087 non-null float64\n",
      "longitude               73087 non-null float64\n",
      "lot_sqr_ft              73087 non-null float64\n",
      "property_land_use_id    73087 non-null float64\n",
      "zipcode_id              73087 non-null float64\n",
      "room_cnt                73087 non-null float64\n",
      "building_value          73087 non-null float64\n",
      "total_value             73087 non-null float64\n",
      "land_value              73087 non-null float64\n",
      "tax_amount              73087 non-null float64\n",
      "census_block            73087 non-null float64\n",
      "logerror                73087 non-null float64\n",
      "has_basement            73087 non-null float64\n",
      "has_fireplace           73087 non-null float64\n",
      "has_deck                73087 non-null float64\n",
      "has_garage              73087 non-null float64\n",
      "has_pool_or_spa         73087 non-null float64\n",
      "has_yardbuilding        73087 non-null float64\n",
      "multistory              73087 non-null float64\n",
      "home_age                73087 non-null float64\n",
      "abs_logerror            73087 non-null float64\n",
      "dtypes: float64(29)\n",
      "memory usage: 16.7 MB\n"
     ]
    }
   ],
   "source": [
    "df_standard.info()"
   ]
  },
  {
   "cell_type": "markdown",
   "metadata": {},
   "source": [
    "## Remove some outliers, maybe"
   ]
  },
  {
   "cell_type": "code",
   "execution_count": null,
   "metadata": {},
   "outputs": [],
   "source": [
    "prepare.remove_upper_outliers(df_standard., df_standard)"
   ]
  },
  {
   "cell_type": "markdown",
   "metadata": {},
   "source": [
    "## It might be helpful"
   ]
  },
  {
   "cell_type": "code",
   "execution_count": 12,
   "metadata": {},
   "outputs": [
    {
     "name": "stdout",
     "output_type": "stream",
     "text": [
      "1 : 4.423657062805574\n",
      "2 : 4.092795324549424\n",
      "3 : 3.878918913496004\n",
      "4 : 3.725267292276577\n",
      "5 : 3.504315101889184\n",
      "6 : 3.3736419610389135\n",
      "7 : 3.3698809402615764\n",
      "8 : 3.227319610451943\n",
      "9 : 3.257074727889613\n"
     ]
    }
   ],
   "source": [
    "cluster.list_inertia_scores(df_standard)"
   ]
  },
  {
   "cell_type": "code",
   "execution_count": 13,
   "metadata": {},
   "outputs": [],
   "source": [
    "three_cluster_df = cluster.make_clusters(df_standard, n_clusters=3)"
   ]
  },
  {
   "cell_type": "code",
   "execution_count": 14,
   "metadata": {},
   "outputs": [
    {
     "name": "stdout",
     "output_type": "stream",
     "text": [
      "<class 'pandas.core.frame.DataFrame'>\n",
      "Int64Index: 73087 entries, 0 to 73423\n",
      "Data columns (total 30 columns):\n",
      "ac_type_id              73087 non-null float64\n",
      "bathroom_cnt            73087 non-null float64\n",
      "bedroom_cnt             73087 non-null float64\n",
      "sum_bath_and_bed        73087 non-null float64\n",
      "square_feet             73087 non-null float64\n",
      "fips_code               73087 non-null float64\n",
      "full_bath_cnt           73087 non-null float64\n",
      "heating_type_id         73087 non-null float64\n",
      "latitude                73087 non-null float64\n",
      "longitude               73087 non-null float64\n",
      "lot_sqr_ft              73087 non-null float64\n",
      "property_land_use_id    73087 non-null float64\n",
      "zipcode_id              73087 non-null float64\n",
      "room_cnt                73087 non-null float64\n",
      "building_value          73087 non-null float64\n",
      "total_value             73087 non-null float64\n",
      "land_value              73087 non-null float64\n",
      "tax_amount              73087 non-null float64\n",
      "census_block            73087 non-null float64\n",
      "logerror                73087 non-null float64\n",
      "has_basement            73087 non-null float64\n",
      "has_fireplace           73087 non-null float64\n",
      "has_deck                73087 non-null float64\n",
      "has_garage              73087 non-null float64\n",
      "has_pool_or_spa         73087 non-null float64\n",
      "has_yardbuilding        73087 non-null float64\n",
      "multistory              73087 non-null float64\n",
      "home_age                73087 non-null float64\n",
      "abs_logerror            73087 non-null float64\n",
      "cluster_labels          73087 non-null int32\n",
      "dtypes: float64(29), int32(1)\n",
      "memory usage: 17.0 MB\n"
     ]
    }
   ],
   "source": [
    "three_cluster_df.info()"
   ]
  },
  {
   "cell_type": "code",
   "execution_count": 22,
   "metadata": {},
   "outputs": [
    {
     "data": {
      "text/plain": [
       "0    51381\n",
       "1    14813\n",
       "2     6893\n",
       "Name: cluster_labels, dtype: int64"
      ]
     },
     "execution_count": 22,
     "metadata": {},
     "output_type": "execute_result"
    }
   ],
   "source": [
    "three_cluster_df['cluster_labels'].value_counts()"
   ]
  },
  {
   "cell_type": "code",
   "execution_count": 23,
   "metadata": {},
   "outputs": [
    {
     "data": {
      "text/plain": [
       "cluster_labels\n",
       "0   -0.204384\n",
       "1   -0.092083\n",
       "2    1.721379\n",
       "Name: total_value, dtype: float64"
      ]
     },
     "execution_count": 23,
     "metadata": {},
     "output_type": "execute_result"
    }
   ],
   "source": [
    "three_cluster_df.groupby('cluster_labels').total_value.mean()"
   ]
  },
  {
   "cell_type": "code",
   "execution_count": 24,
   "metadata": {},
   "outputs": [
    {
     "data": {
      "image/png": "[encoded data removed]",
      "text/plain": [
       "<Figure size 432x288 with 1 Axes>"
      ]
     },
     "metadata": {
      "needs_background": "light"
     },
     "output_type": "display_data"
    }
   ],
   "source": [
    "cluster.show_clusters_on_map(three_cluster_df)"
   ]
  },
  {
   "cell_type": "code",
   "execution_count": 25,
   "metadata": {},
   "outputs": [],
   "source": [
    "cluster_labels = three_cluster_df.cluster_labels"
   ]
  },
  {
   "cell_type": "code",
   "execution_count": 26,
   "metadata": {},
   "outputs": [],
   "source": [
    "three_cluster_df.drop('cluster_labels',axis=1,inplace=True)"
   ]
  },
  {
   "cell_type": "code",
   "execution_count": 27,
   "metadata": {},
   "outputs": [],
   "source": [
    "scaler, unscaled_df = cluster.my_inv_transform(std_object, three_cluster_df)"
   ]
  },
  {
   "cell_type": "code",
   "execution_count": 30,
   "metadata": {},
   "outputs": [
    {
     "data": {
      "text/html": [
       "<div>\n",
       "<style scoped>\n",
       "    .dataframe tbody tr th:only-of-type {\n",
       "        vertical-align: middle;\n",
       "    }\n",
       "\n",
       "    .dataframe tbody tr th {\n",
       "        vertical-align: top;\n",
       "    }\n",
       "\n",
       "    .dataframe thead th {\n",
       "        text-align: right;\n",
       "    }\n",
       "</style>\n",
       "<table border=\"1\" class=\"dataframe\">\n",
       "  <thead>\n",
       "    <tr style=\"text-align: right;\">\n",
       "      <th></th>\n",
       "      <th>ac_type_id</th>\n",
       "      <th>bathroom_cnt</th>\n",
       "      <th>bedroom_cnt</th>\n",
       "      <th>sum_bath_and_bed</th>\n",
       "      <th>square_feet</th>\n",
       "      <th>fips_code</th>\n",
       "      <th>full_bath_cnt</th>\n",
       "      <th>heating_type_id</th>\n",
       "      <th>latitude</th>\n",
       "      <th>longitude</th>\n",
       "      <th>...</th>\n",
       "      <th>has_basement</th>\n",
       "      <th>has_fireplace</th>\n",
       "      <th>has_deck</th>\n",
       "      <th>has_garage</th>\n",
       "      <th>has_pool_or_spa</th>\n",
       "      <th>has_yardbuilding</th>\n",
       "      <th>multistory</th>\n",
       "      <th>home_age</th>\n",
       "      <th>abs_logerror</th>\n",
       "      <th>cluser_labels</th>\n",
       "    </tr>\n",
       "  </thead>\n",
       "  <tbody>\n",
       "    <tr>\n",
       "      <th>0</th>\n",
       "      <td>1.0</td>\n",
       "      <td>3.5</td>\n",
       "      <td>4.0</td>\n",
       "      <td>3.5</td>\n",
       "      <td>3100.0</td>\n",
       "      <td>6059.0</td>\n",
       "      <td>3.0</td>\n",
       "      <td>2.0</td>\n",
       "      <td>7.543863e+11</td>\n",
       "      <td>-3.578505e+12</td>\n",
       "      <td>...</td>\n",
       "      <td>0.0</td>\n",
       "      <td>0.0</td>\n",
       "      <td>0.0</td>\n",
       "      <td>1.000000e+00</td>\n",
       "      <td>0.0</td>\n",
       "      <td>0.0</td>\n",
       "      <td>0.0</td>\n",
       "      <td>18.0</td>\n",
       "      <td>0.025595</td>\n",
       "      <td>2</td>\n",
       "    </tr>\n",
       "    <tr>\n",
       "      <th>1</th>\n",
       "      <td>1.0</td>\n",
       "      <td>1.0</td>\n",
       "      <td>2.0</td>\n",
       "      <td>1.0</td>\n",
       "      <td>1465.0</td>\n",
       "      <td>6111.0</td>\n",
       "      <td>1.0</td>\n",
       "      <td>2.0</td>\n",
       "      <td>7.726507e+11</td>\n",
       "      <td>-3.621382e+12</td>\n",
       "      <td>...</td>\n",
       "      <td>0.0</td>\n",
       "      <td>1.0</td>\n",
       "      <td>0.0</td>\n",
       "      <td>-2.775558e-17</td>\n",
       "      <td>0.0</td>\n",
       "      <td>0.0</td>\n",
       "      <td>0.0</td>\n",
       "      <td>49.0</td>\n",
       "      <td>0.055619</td>\n",
       "      <td>1</td>\n",
       "    </tr>\n",
       "    <tr>\n",
       "      <th>2</th>\n",
       "      <td>1.0</td>\n",
       "      <td>2.0</td>\n",
       "      <td>3.0</td>\n",
       "      <td>2.0</td>\n",
       "      <td>1243.0</td>\n",
       "      <td>6059.0</td>\n",
       "      <td>2.0</td>\n",
       "      <td>2.0</td>\n",
       "      <td>7.600212e+11</td>\n",
       "      <td>-3.577107e+12</td>\n",
       "      <td>...</td>\n",
       "      <td>0.0</td>\n",
       "      <td>0.0</td>\n",
       "      <td>0.0</td>\n",
       "      <td>1.000000e+00</td>\n",
       "      <td>1.0</td>\n",
       "      <td>0.0</td>\n",
       "      <td>0.0</td>\n",
       "      <td>54.0</td>\n",
       "      <td>0.005383</td>\n",
       "      <td>1</td>\n",
       "    </tr>\n",
       "    <tr>\n",
       "      <th>3</th>\n",
       "      <td>1.0</td>\n",
       "      <td>3.0</td>\n",
       "      <td>4.0</td>\n",
       "      <td>3.0</td>\n",
       "      <td>2376.0</td>\n",
       "      <td>6037.0</td>\n",
       "      <td>3.0</td>\n",
       "      <td>2.0</td>\n",
       "      <td>7.680734e+11</td>\n",
       "      <td>-3.589784e+12</td>\n",
       "      <td>...</td>\n",
       "      <td>0.0</td>\n",
       "      <td>0.0</td>\n",
       "      <td>0.0</td>\n",
       "      <td>-2.775558e-17</td>\n",
       "      <td>1.0</td>\n",
       "      <td>0.0</td>\n",
       "      <td>0.0</td>\n",
       "      <td>46.0</td>\n",
       "      <td>0.103410</td>\n",
       "      <td>0</td>\n",
       "    </tr>\n",
       "    <tr>\n",
       "      <th>4</th>\n",
       "      <td>1.0</td>\n",
       "      <td>3.0</td>\n",
       "      <td>3.0</td>\n",
       "      <td>3.0</td>\n",
       "      <td>1312.0</td>\n",
       "      <td>6037.0</td>\n",
       "      <td>3.0</td>\n",
       "      <td>2.0</td>\n",
       "      <td>7.667263e+11</td>\n",
       "      <td>-3.595064e+12</td>\n",
       "      <td>...</td>\n",
       "      <td>0.0</td>\n",
       "      <td>0.0</td>\n",
       "      <td>0.0</td>\n",
       "      <td>-2.775558e-17</td>\n",
       "      <td>1.0</td>\n",
       "      <td>0.0</td>\n",
       "      <td>0.0</td>\n",
       "      <td>52.0</td>\n",
       "      <td>0.006940</td>\n",
       "      <td>0</td>\n",
       "    </tr>\n",
       "  </tbody>\n",
       "</table>\n",
       "<p>5 rows × 30 columns</p>\n",
       "</div>"
      ],
      "text/plain": [
       "   ac_type_id  bathroom_cnt  bedroom_cnt  sum_bath_and_bed  square_feet  \\\n",
       "0         1.0           3.5          4.0               3.5       3100.0   \n",
       "1         1.0           1.0          2.0               1.0       1465.0   \n",
       "2         1.0           2.0          3.0               2.0       1243.0   \n",
       "3         1.0           3.0          4.0               3.0       2376.0   \n",
       "4         1.0           3.0          3.0               3.0       1312.0   \n",
       "\n",
       "   fips_code  full_bath_cnt  heating_type_id      latitude     longitude  ...  \\\n",
       "0     6059.0            3.0              2.0  7.543863e+11 -3.578505e+12  ...   \n",
       "1     6111.0            1.0              2.0  7.726507e+11 -3.621382e+12  ...   \n",
       "2     6059.0            2.0              2.0  7.600212e+11 -3.577107e+12  ...   \n",
       "3     6037.0            3.0              2.0  7.680734e+11 -3.589784e+12  ...   \n",
       "4     6037.0            3.0              2.0  7.667263e+11 -3.595064e+12  ...   \n",
       "\n",
       "   has_basement  has_fireplace  has_deck    has_garage  has_pool_or_spa  \\\n",
       "0           0.0            0.0       0.0  1.000000e+00              0.0   \n",
       "1           0.0            1.0       0.0 -2.775558e-17              0.0   \n",
       "2           0.0            0.0       0.0  1.000000e+00              1.0   \n",
       "3           0.0            0.0       0.0 -2.775558e-17              1.0   \n",
       "4           0.0            0.0       0.0 -2.775558e-17              1.0   \n",
       "\n",
       "   has_yardbuilding  multistory  home_age  abs_logerror  cluser_labels  \n",
       "0               0.0         0.0      18.0      0.025595              2  \n",
       "1               0.0         0.0      49.0      0.055619              1  \n",
       "2               0.0         0.0      54.0      0.005383              1  \n",
       "3               0.0         0.0      46.0      0.103410              0  \n",
       "4               0.0         0.0      52.0      0.006940              0  \n",
       "\n",
       "[5 rows x 30 columns]"
      ]
     },
     "execution_count": 30,
     "metadata": {},
     "output_type": "execute_result"
    }
   ],
   "source": [
    "unscaled_df.head()"
   ]
  },
  {
   "cell_type": "code",
   "execution_count": 31,
   "metadata": {},
   "outputs": [],
   "source": [
    "unscaled_df['cluster_labels'] = cluster_labels"
   ]
  },
  {
   "cell_type": "code",
   "execution_count": 32,
   "metadata": {},
   "outputs": [
    {
     "data": {
      "text/html": [
       "<div>\n",
       "<style scoped>\n",
       "    .dataframe tbody tr th:only-of-type {\n",
       "        vertical-align: middle;\n",
       "    }\n",
       "\n",
       "    .dataframe tbody tr th {\n",
       "        vertical-align: top;\n",
       "    }\n",
       "\n",
       "    .dataframe thead th {\n",
       "        text-align: right;\n",
       "    }\n",
       "</style>\n",
       "<table border=\"1\" class=\"dataframe\">\n",
       "  <thead>\n",
       "    <tr style=\"text-align: right;\">\n",
       "      <th></th>\n",
       "      <th>ac_type_id</th>\n",
       "      <th>bathroom_cnt</th>\n",
       "      <th>bedroom_cnt</th>\n",
       "      <th>sum_bath_and_bed</th>\n",
       "      <th>square_feet</th>\n",
       "      <th>fips_code</th>\n",
       "      <th>full_bath_cnt</th>\n",
       "      <th>heating_type_id</th>\n",
       "      <th>latitude</th>\n",
       "      <th>longitude</th>\n",
       "      <th>...</th>\n",
       "      <th>has_basement</th>\n",
       "      <th>has_fireplace</th>\n",
       "      <th>has_deck</th>\n",
       "      <th>has_garage</th>\n",
       "      <th>has_pool_or_spa</th>\n",
       "      <th>has_yardbuilding</th>\n",
       "      <th>multistory</th>\n",
       "      <th>home_age</th>\n",
       "      <th>abs_logerror</th>\n",
       "      <th>cluser_labels</th>\n",
       "    </tr>\n",
       "    <tr>\n",
       "      <th>cluster_labels</th>\n",
       "      <th></th>\n",
       "      <th></th>\n",
       "      <th></th>\n",
       "      <th></th>\n",
       "      <th></th>\n",
       "      <th></th>\n",
       "      <th></th>\n",
       "      <th></th>\n",
       "      <th></th>\n",
       "      <th></th>\n",
       "      <th></th>\n",
       "      <th></th>\n",
       "      <th></th>\n",
       "      <th></th>\n",
       "      <th></th>\n",
       "      <th></th>\n",
       "      <th></th>\n",
       "      <th></th>\n",
       "      <th></th>\n",
       "      <th></th>\n",
       "      <th></th>\n",
       "    </tr>\n",
       "  </thead>\n",
       "  <tbody>\n",
       "    <tr>\n",
       "      <th>0</th>\n",
       "      <td>1.007279</td>\n",
       "      <td>2.048666</td>\n",
       "      <td>2.760884</td>\n",
       "      <td>2.048666</td>\n",
       "      <td>1482.954906</td>\n",
       "      <td>6041.066172</td>\n",
       "      <td>2.011230</td>\n",
       "      <td>3.680310</td>\n",
       "      <td>7.634533e+11</td>\n",
       "      <td>-3.587887e+12</td>\n",
       "      <td>...</td>\n",
       "      <td>0.000000</td>\n",
       "      <td>0.000311</td>\n",
       "      <td>0.000000</td>\n",
       "      <td>0.046379</td>\n",
       "      <td>0.185224</td>\n",
       "      <td>0.000000</td>\n",
       "      <td>0.007454</td>\n",
       "      <td>48.448687</td>\n",
       "      <td>0.064616</td>\n",
       "      <td>0</td>\n",
       "    </tr>\n",
       "    <tr>\n",
       "      <th>1</th>\n",
       "      <td>2.292378</td>\n",
       "      <td>2.293931</td>\n",
       "      <td>3.376764</td>\n",
       "      <td>2.293931</td>\n",
       "      <td>1850.601026</td>\n",
       "      <td>6079.025113</td>\n",
       "      <td>2.134409</td>\n",
       "      <td>2.154661</td>\n",
       "      <td>7.610570e+11</td>\n",
       "      <td>-3.591478e+12</td>\n",
       "      <td>...</td>\n",
       "      <td>0.003105</td>\n",
       "      <td>0.537433</td>\n",
       "      <td>0.038547</td>\n",
       "      <td>0.875920</td>\n",
       "      <td>0.224195</td>\n",
       "      <td>0.155472</td>\n",
       "      <td>0.429488</td>\n",
       "      <td>44.358874</td>\n",
       "      <td>0.060369</td>\n",
       "      <td>1</td>\n",
       "    </tr>\n",
       "    <tr>\n",
       "      <th>2</th>\n",
       "      <td>1.067315</td>\n",
       "      <td>4.073480</td>\n",
       "      <td>4.267373</td>\n",
       "      <td>4.073480</td>\n",
       "      <td>3650.125054</td>\n",
       "      <td>6045.489772</td>\n",
       "      <td>3.960975</td>\n",
       "      <td>2.183665</td>\n",
       "      <td>7.615368e+11</td>\n",
       "      <td>-3.587697e+12</td>\n",
       "      <td>...</td>\n",
       "      <td>0.000580</td>\n",
       "      <td>0.035253</td>\n",
       "      <td>0.004642</td>\n",
       "      <td>0.338749</td>\n",
       "      <td>0.516901</td>\n",
       "      <td>0.008269</td>\n",
       "      <td>0.032497</td>\n",
       "      <td>33.474249</td>\n",
       "      <td>0.092358</td>\n",
       "      <td>2</td>\n",
       "    </tr>\n",
       "  </tbody>\n",
       "</table>\n",
       "<p>3 rows × 30 columns</p>\n",
       "</div>"
      ],
      "text/plain": [
       "                ac_type_id  bathroom_cnt  bedroom_cnt  sum_bath_and_bed  \\\n",
       "cluster_labels                                                            \n",
       "0                 1.007279      2.048666     2.760884          2.048666   \n",
       "1                 2.292378      2.293931     3.376764          2.293931   \n",
       "2                 1.067315      4.073480     4.267373          4.073480   \n",
       "\n",
       "                square_feet    fips_code  full_bath_cnt  heating_type_id  \\\n",
       "cluster_labels                                                             \n",
       "0               1482.954906  6041.066172       2.011230         3.680310   \n",
       "1               1850.601026  6079.025113       2.134409         2.154661   \n",
       "2               3650.125054  6045.489772       3.960975         2.183665   \n",
       "\n",
       "                    latitude     longitude  ...  has_basement  has_fireplace  \\\n",
       "cluster_labels                              ...                                \n",
       "0               7.634533e+11 -3.587887e+12  ...      0.000000       0.000311   \n",
       "1               7.610570e+11 -3.591478e+12  ...      0.003105       0.537433   \n",
       "2               7.615368e+11 -3.587697e+12  ...      0.000580       0.035253   \n",
       "\n",
       "                has_deck  has_garage  has_pool_or_spa  has_yardbuilding  \\\n",
       "cluster_labels                                                            \n",
       "0               0.000000    0.046379         0.185224          0.000000   \n",
       "1               0.038547    0.875920         0.224195          0.155472   \n",
       "2               0.004642    0.338749         0.516901          0.008269   \n",
       "\n",
       "                multistory   home_age  abs_logerror  cluser_labels  \n",
       "cluster_labels                                                      \n",
       "0                 0.007454  48.448687      0.064616              0  \n",
       "1                 0.429488  44.358874      0.060369              1  \n",
       "2                 0.032497  33.474249      0.092358              2  \n",
       "\n",
       "[3 rows x 30 columns]"
      ]
     },
     "execution_count": 32,
     "metadata": {},
     "output_type": "execute_result"
    }
   ],
   "source": [
    "unscaled_df.groupby('cluster_labels').mean()"
   ]
  },
  {
   "cell_type": "code",
   "execution_count": 33,
   "metadata": {},
   "outputs": [
    {
     "data": {
      "text/plain": [
       "0.06637176795414802"
      ]
     },
     "execution_count": 33,
     "metadata": {},
     "output_type": "execute_result"
    }
   ],
   "source": [
    "unscaled_df.abs_logerror.mean()"
   ]
  },
  {
   "cell_type": "code",
   "execution_count": 34,
   "metadata": {},
   "outputs": [
    {
     "data": {
      "text/plain": [
       "0.01654286947054684"
      ]
     },
     "execution_count": 34,
     "metadata": {},
     "output_type": "execute_result"
    }
   ],
   "source": [
    "unscaled_df.logerror.mean()"
   ]
  },
  {
   "cell_type": "code",
   "execution_count": 35,
   "metadata": {},
   "outputs": [
    {
     "data": {
      "text/plain": [
       "cluster_labels\n",
       "0    0.012889\n",
       "1    0.020409\n",
       "2    0.035470\n",
       "Name: logerror, dtype: float64"
      ]
     },
     "execution_count": 35,
     "metadata": {},
     "output_type": "execute_result"
    }
   ],
   "source": [
    "unscaled_df.groupby('cluster_labels').logerror.mean()"
   ]
  },
  {
   "cell_type": "code",
   "execution_count": null,
   "metadata": {},
   "outputs": [],
   "source": []
  }
 ],
 "metadata": {
  "kernelspec": {
   "display_name": "Python 3",
   "language": "python",
   "name": "python3"
  },
  "language_info": {
   "codemirror_mode": {
    "name": "ipython",
    "version": 3
   },
   "file_extension": ".py",
   "mimetype": "text/x-python",
   "name": "python",
   "nbconvert_exporter": "python",
   "pygments_lexer": "ipython3",
   "version": "3.7.3"
  }
 },
 "nbformat": 4,
 "nbformat_minor": 2
}
